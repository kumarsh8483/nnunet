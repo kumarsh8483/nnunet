{
  "cells": [
    {
      "cell_type": "code",
      "source": [
        "import os\n",
        "import azureml.core\n",
        "from azureml.core import (\n",
        "    Workspace,\n",
        "    Experiment,\n",
        "    Dataset,\n",
        "    Datastore,\n",
        "    ComputeTarget,\n",
        "    Environment,\n",
        "    ScriptRunConfig,\n",
        ")\n",
        "from azureml.data import OutputFileDatasetConfig\n",
        "from azureml.core.compute import AmlCompute\n",
        "from azureml.core.compute_target import ComputeTargetException\n",
        "from azureml.pipeline.steps import PythonScriptStep\n",
        "from azureml.pipeline.core import Pipeline\n",
        "\n",
        "# check core SDK version number\n",
        "print(\"Azure ML SDK Version: \", azureml.core.VERSION)"
      ],
      "outputs": [
        {
          "output_type": "stream",
          "name": "stdout",
          "text": "Azure ML SDK Version:  1.48.0\n"
        }
      ],
      "execution_count": 64,
      "metadata": {
        "jupyter": {
          "source_hidden": false,
          "outputs_hidden": false
        },
        "nteract": {
          "transient": {
            "deleting": false
          }
        },
        "gather": {
          "logged": 1674654929558
        }
      }
    },
    {
      "cell_type": "code",
      "source": [
        "workspace = Workspace.from_config()"
      ],
      "outputs": [],
      "execution_count": 65,
      "metadata": {
        "jupyter": {
          "source_hidden": false,
          "outputs_hidden": false
        },
        "nteract": {
          "transient": {
            "deleting": false
          }
        },
        "gather": {
          "logged": 1674654935338
        }
      }
    },
    {
      "cell_type": "code",
      "source": [
        "exp = Experiment(workspace=workspace, name=\"nnunet-devops-test\")"
      ],
      "outputs": [],
      "execution_count": 66,
      "metadata": {
        "jupyter": {
          "source_hidden": false,
          "outputs_hidden": false
        },
        "nteract": {
          "transient": {
            "deleting": false
          }
        },
        "gather": {
          "logged": 1674654935985
        }
      }
    },
    {
      "cell_type": "code",
      "source": [
        "output = OutputFileDatasetConfig(name=\"nnunet_outputs\", destination=None, source=\"/output/\") # source directory should be same with RESULTS_DIR in docker"
      ],
      "outputs": [],
      "execution_count": 67,
      "metadata": {
        "jupyter": {
          "source_hidden": false,
          "outputs_hidden": false
        },
        "nteract": {
          "transient": {
            "deleting": false
          }
        },
        "gather": {
          "logged": 1674654936650
        }
      }
    },
    {
      "cell_type": "code",
      "source": [
        "use_gpu = False\n",
        "max_number_of_instances = 1\n",
        "\n",
        "# choose a name for your cluster\n",
        "cluster_name = \"gpu-cluster\" if use_gpu else \"cpu-cluster\"\n",
        "\n",
        "found = False\n",
        "# Check if this compute target already exists in the workspace.\n",
        "cts = workspace.compute_targets\n",
        "if cluster_name in cts and cts[cluster_name].type == \"AmlCompute\":\n",
        "    found = True\n",
        "    print(\"Found existing compute target.\")\n",
        "    compute_target = cts[cluster_name]\n",
        "if not found:\n",
        "    print(\"Creating a new compute target...\")\n",
        "    compute_config = AmlCompute.provisioning_configuration(\n",
        "        vm_size= \"STANDARD_NC6\" if use_gpu else \"STANDARD_D4_V2\",\n",
        "        # vm_priority = 'lowpriority', # optional\n",
        "        max_nodes=max_number_of_instances\n",
        "    )\n",
        "\n",
        "    # Create the cluster.\n",
        "    compute_target = ComputeTarget.create(workspace, cluster_name, compute_config)\n",
        "\n",
        "    # Can poll for a minimum number of nodes and for a specific timeout.\n",
        "    # If no min_node_count is provided, it will use the scale settings for the cluster.\n",
        "    compute_target.wait_for_completion(\n",
        "        show_output=True, min_node_count=None, timeout_in_minutes=10\n",
        "    )\n",
        "# For a more detailed view of current AmlCompute status, use get_status().print(compute_target.get_status().serialize())\n",
        "print(compute_target)"
      ],
      "outputs": [
        {
          "output_type": "stream",
          "name": "stdout",
          "text": "Found existing compute target.\nAmlCompute(workspace=Workspace.create(name='azure-ml-test-workspace', subscription_id='e5fb5c5f-cb5c-42c8-86b6-cf4fd5aac11b', resource_group='azureml-test'), name=cpu-cluster, id=/subscriptions/e5fb5c5f-cb5c-42c8-86b6-cf4fd5aac11b/resourceGroups/azureml-test/providers/Microsoft.MachineLearningServices/workspaces/azure-ml-test-workspace/computes/cpu-cluster, type=AmlCompute, provisioning_state=Deleting, location=eastus2, tags={})\n"
        }
      ],
      "execution_count": 77,
      "metadata": {
        "jupyter": {
          "source_hidden": false,
          "outputs_hidden": false
        },
        "nteract": {
          "transient": {
            "deleting": false
          }
        },
        "gather": {
          "logged": 1674654972803
        }
      }
    },
    {
      "cell_type": "code",
      "source": [
        "# figure out how to mount script folder\n",
        "script_folder = \"./nnunet_src\"\n",
        "\n",
        "prep_step = PythonScriptStep(\n",
        "    name=\"prepare step\",\n",
        "    script_name=\"prepare.py\",\n",
        "    arguments=[], # no arguments for now\n",
        "    source_directory=script_folder,\n",
        "    compute_target=compute_target,\n",
        "    allow_reuse=True,\n",
        ")"
      ],
      "outputs": [],
      "execution_count": 76,
      "metadata": {
        "jupyter": {
          "source_hidden": false,
          "outputs_hidden": false
        },
        "nteract": {
          "transient": {
            "deleting": false
          }
        },
        "gather": {
          "logged": 1674654963064
        }
      }
    },
    {
      "cell_type": "code",
      "source": [
        "print(compute_target)"
      ],
      "outputs": [
        {
          "output_type": "stream",
          "name": "stdout",
          "text": "AmlCompute(workspace=Workspace.create(name='azure-ml-test-workspace', subscription_id='e5fb5c5f-cb5c-42c8-86b6-cf4fd5aac11b', resource_group='azureml-test'), name=cpu-cluster, id=/subscriptions/e5fb5c5f-cb5c-42c8-86b6-cf4fd5aac11b/resourceGroups/azureml-test/providers/Microsoft.MachineLearningServices/workspaces/azure-ml-test-workspace/computes/cpu-cluster, type=AmlCompute, provisioning_state=Deleting, location=eastus2, tags={})\n"
        }
      ],
      "execution_count": 70,
      "metadata": {
        "jupyter": {
          "source_hidden": false,
          "outputs_hidden": false
        },
        "nteract": {
          "transient": {
            "deleting": false
          }
        },
        "gather": {
          "logged": 1674654937994
        }
      }
    },
    {
      "cell_type": "code",
      "source": [
        "docker_env = Environment(\"nnunet-docker\")\n",
        "docker_env.docker.base_image = \"auzremltestregistry.azurecr.io/nnunet\" # example : \"fastdotai/fastai2:latest\"\n",
        "docker_env.python.user_managed_dependencies = True\n",
        "\n",
        "train_cfg = ScriptRunConfig(\n",
        "    source_directory=script_folder,\n",
        "    script=\"train.py\",\n",
        "    arguments=[output],\n",
        "    compute_target=compute_target,\n",
        "    environment=docker_env,\n",
        ")\n",
        "\n",
        "# create the training step :\n",
        "train_step = PythonScriptStep(\n",
        "    name=\"training step\",\n",
        "    arguments=[output],# no asrguments for now, since azure datastore wont work well with colab\n",
        "    source_directory=train_cfg.source_directory,\n",
        "    script_name=train_cfg.script,\n",
        "    runconfig=train_cfg.run_config,\n",
        ")"
      ],
      "outputs": [],
      "execution_count": 71,
      "metadata": {
        "jupyter": {
          "source_hidden": false,
          "outputs_hidden": false
        },
        "nteract": {
          "transient": {
            "deleting": false
          }
        },
        "gather": {
          "logged": 1674654938526
        }
      }
    },
    {
      "cell_type": "code",
      "source": [
        "pipeline = Pipeline(workspace, steps=[prep_step, train_step])\n",
        "run = exp.submit(pipeline)"
      ],
      "outputs": [
        {
          "output_type": "stream",
          "name": "stdout",
          "text": "Created step prepare step [94178a93][e555cbd7-bc34-4a1b-ab0d-c9583287ab67], (This step is eligible to reuse a previous run's output)Created step training step [08dca8fa][4231f348-7cf0-4e06-b6b0-825b9b15d8d5], (This step is eligible to reuse a previous run's output)\n\nSubmitted PipelineRun ebc12c5e-be45-448b-99ff-83c15c27f84d\nLink to Azure Machine Learning Portal: https://ml.azure.com/runs/ebc12c5e-be45-448b-99ff-83c15c27f84d?wsid=/subscriptions/e5fb5c5f-cb5c-42c8-86b6-cf4fd5aac11b/resourcegroups/azureml-test/workspaces/azure-ml-test-workspace&tid=610ba57f-df8b-4dc2-8ddf-2532d017cd71\n"
        }
      ],
      "execution_count": 72,
      "metadata": {
        "jupyter": {
          "source_hidden": false,
          "outputs_hidden": false
        },
        "nteract": {
          "transient": {
            "deleting": false
          }
        },
        "gather": {
          "logged": 1674654945449
        }
      }
    },
    {
      "cell_type": "code",
      "source": [],
      "outputs": [],
      "execution_count": null,
      "metadata": {
        "jupyter": {
          "source_hidden": false,
          "outputs_hidden": false
        },
        "nteract": {
          "transient": {
            "deleting": false
          }
        }
      }
    }
  ],
  "metadata": {
    "kernelspec": {
      "name": "python38-azureml",
      "language": "python",
      "display_name": "Python 3.8 - AzureML"
    },
    "language_info": {
      "name": "python",
      "version": "3.8.10",
      "mimetype": "text/x-python",
      "codemirror_mode": {
        "name": "ipython",
        "version": 3
      },
      "pygments_lexer": "ipython3",
      "nbconvert_exporter": "python",
      "file_extension": ".py"
    },
    "microsoft": {
      "host": {
        "AzureML": {
          "notebookHasBeenCompleted": true
        }
      }
    },
    "nteract": {
      "version": "nteract-front-end@1.0.0"
    },
    "kernel_info": {
      "name": "python38-azureml"
    }
  },
  "nbformat": 4,
  "nbformat_minor": 2
}