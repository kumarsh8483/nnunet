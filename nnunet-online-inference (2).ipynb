{
  "cells": [
    {
      "cell_type": "markdown",
      "source": [
        "**Notes : **\n",
        "\n",
        "1 - custom prediction python script should be provided (scoring.py)\n",
        "\n",
        "2 - will check if artefacts can be installed to notebook"
      ],
      "metadata": {
        "nteract": {
          "transient": {
            "deleting": false
          }
        }
      }
    },
    {
      "cell_type": "code",
      "source": [
        "# import required libraries\n",
        "import os\n",
        "import datetime\n",
        "from azure.ai.ml import MLClient\n",
        "from azure.ai.ml.entities import (\n",
        "    ManagedOnlineEndpoint,\n",
        "    ManagedOnlineDeployment,\n",
        "    CodeConfiguration,\n",
        "    ProbeSettings,\n",
        "    Environment,\n",
        "    Model,\n",
        ")\n",
        "from azure.ai.ml.constants import AssetTypes\n",
        "\n",
        "from azureml.core import (\n",
        "    Experiment,\n",
        "    Workspace,\n",
        "    Run\n",
        ")\n",
        "\n",
        "from azure.identity import DefaultAzureCredential"
      ],
      "outputs": [],
      "execution_count": 45,
      "metadata": {
        "jupyter": {
          "source_hidden": false,
          "outputs_hidden": false
        },
        "nteract": {
          "transient": {
            "deleting": false
          }
        },
        "gather": {
          "logged": 1689353599891
        }
      }
    },
    {
      "cell_type": "code",
      "source": [
        "name = \"nnunet-devops-test-2\"\n",
        "# input training step id\n",
        "latest_run_id = \"d134788d-094b-4cfa-b38b-c2eced07ba53\" #\"d6c83f1e-97a7-48a1-b4db-a308de7bd9e2\" # gets the latest if empty"
      ],
      "outputs": [],
      "execution_count": 46,
      "metadata": {
        "jupyter": {
          "source_hidden": false,
          "outputs_hidden": false
        },
        "nteract": {
          "transient": {
            "deleting": false
          }
        },
        "gather": {
          "logged": 1689353600082
        }
      }
    },
    {
      "cell_type": "code",
      "source": [
        "workspace = Workspace.from_config()\n",
        "credential = DefaultAzureCredential()\n",
        "ml_client = MLClient.from_config(credential)"
      ],
      "outputs": [
        {
          "output_type": "stream",
          "name": "stderr",
          "text": "Found the config file in: /config.json\n"
        }
      ],
      "execution_count": 47,
      "metadata": {
        "jupyter": {
          "source_hidden": false,
          "outputs_hidden": false
        },
        "nteract": {
          "transient": {
            "deleting": false
          }
        },
        "gather": {
          "logged": 1689353606552
        }
      }
    },
    {
      "cell_type": "code",
      "source": [
        "# get experiment\n",
        "experiment = Experiment(workspace, name)\n",
        "# get experiment's latest run id\n",
        "if latest_run_id:\n",
        "    latest_run = Run(experiment, latest_run_id) \n",
        "else:\n",
        "    latest_run = next(experiment.get_runs())\n",
        "\n",
        "    \n",
        "print(latest_run)\n",
        "print(type(latest_run))\n"
      ],
      "outputs": [
        {
          "output_type": "stream",
          "name": "stdout",
          "text": "Run(Experiment: nnunet-devops-test-2,\nId: d134788d-094b-4cfa-b38b-c2eced07ba53,\nType: azureml.StepRun,\nStatus: Completed)\n<class 'azureml.core.run.Run'>\n"
        }
      ],
      "execution_count": 48,
      "metadata": {
        "jupyter": {
          "source_hidden": false,
          "outputs_hidden": false
        },
        "nteract": {
          "transient": {
            "deleting": false
          }
        },
        "gather": {
          "logged": 1689353607969
        }
      }
    },
    {
      "cell_type": "code",
      "source": [
        "model_path = f\"azureml://subscriptions/{workspace.subscription_id}/resourcegroups/{workspace.resource_group}/workspaces/{workspace.name}/datastores/{workspace.get_default_datastore().name}/paths/dataset/{latest_run.id}/nnUNet/\""
      ],
      "outputs": [],
      "execution_count": 49,
      "metadata": {
        "jupyter": {
          "source_hidden": false,
          "outputs_hidden": false
        },
        "nteract": {
          "transient": {
            "deleting": false
          }
        },
        "gather": {
          "logged": 1689353608913
        }
      }
    },
    {
      "cell_type": "code",
      "source": [
        "# model registration procedure\n",
        "model = Model(path=model_path,\n",
        "                name=\"iamnewtestmodel\",\n",
        "                description=\"description-here\",\n",
        "                type=AssetTypes.CUSTOM_MODEL)\n",
        "registered_model = ml_client.models.create_or_update(model)"
      ],
      "outputs": [],
      "execution_count": 50,
      "metadata": {
        "jupyter": {
          "source_hidden": false,
          "outputs_hidden": false
        },
        "nteract": {
          "transient": {
            "deleting": false
          }
        },
        "gather": {
          "logged": 1689353611895
        }
      }
    },
    {
      "cell_type": "code",
      "source": [
        "# Creating a unique endpoint name with current datetime to avoid conflicts\n",
        "online_endpoint_name = \"nnunet-model-\" + datetime.datetime.now().strftime(\n",
        "    \"%m%d%H%M%f\"\n",
        ")\n",
        "\n",
        "# create an online endpoint\n",
        "endpoint = ManagedOnlineEndpoint(\n",
        "    name=online_endpoint_name,\n",
        "    description=\"\",\n",
        "    auth_mode=\"key\",\n",
        "    tags={\"foo\": \"bar\"},\n",
        ")\n",
        "print(online_endpoint_name)"
      ],
      "outputs": [
        {
          "output_type": "stream",
          "name": "stdout",
          "text": "nnunet-model-07141653760676\n"
        }
      ],
      "execution_count": 51,
      "metadata": {
        "jupyter": {
          "source_hidden": false,
          "outputs_hidden": false
        },
        "nteract": {
          "transient": {
            "deleting": false
          }
        },
        "gather": {
          "logged": 1689353614113
        }
      }
    },
    {
      "cell_type": "code",
      "source": [
        "ml_client.begin_create_or_update(endpoint).result()"
      ],
      "outputs": [
        {
          "output_type": "execute_result",
          "execution_count": 52,
          "data": {
            "text/plain": "ManagedOnlineEndpoint({'public_network_access': 'Enabled', 'provisioning_state': 'Succeeded', 'scoring_uri': 'https://nnunet-model-07141653760676.eastus2.inference.ml.azure.com/score', 'openapi_uri': 'https://nnunet-model-07141653760676.eastus2.inference.ml.azure.com/swagger.json', 'name': 'nnunet-model-07141653760676', 'description': '', 'tags': {'foo': 'bar'}, 'properties': {'azureml.onlineendpointid': '/subscriptions/e5fb5c5f-cb5c-42c8-86b6-cf4fd5aac11b/resourcegroups/azureml-test/providers/microsoft.machinelearningservices/workspaces/nnunet/onlineendpoints/nnunet-model-07141653760676', 'AzureAsyncOperationUri': 'https://management.azure.com/subscriptions/e5fb5c5f-cb5c-42c8-86b6-cf4fd5aac11b/providers/Microsoft.MachineLearningServices/locations/eastus2/mfeOperationsStatus/oe:438978f1-ead1-47c3-ad8e-c77be361c727:b35f92c3-9fb7-4054-80a6-3af70229d13d?api-version=2022-02-01-preview'}, 'id': '/subscriptions/e5fb5c5f-cb5c-42c8-86b6-cf4fd5aac11b/resourceGroups/azureml-test/providers/Microsoft.MachineLearningServices/workspaces/nnunet/onlineEndpoints/nnunet-model-07141653760676', 'Resource__source_path': None, 'base_path': '/mnt/batch/tasks/shared/LS_root/mounts/clusters/avaj18701/code/Users/avaj1870', 'creation_context': None, 'serialize': <msrest.serialization.Serializer object at 0x7f694cc01030>, 'auth_mode': 'key', 'location': 'eastus2', 'identity': <azure.ai.ml.entities._credentials.IdentityConfiguration object at 0x7f694cc00a00>, 'traffic': {}, 'mirror_traffic': {}, 'kind': 'Managed'})"
          },
          "metadata": {}
        }
      ],
      "execution_count": 52,
      "metadata": {
        "jupyter": {
          "source_hidden": false,
          "outputs_hidden": false
        },
        "nteract": {
          "transient": {
            "deleting": false
          }
        },
        "gather": {
          "logged": 1689353707314
        }
      }
    },
    {
      "cell_type": "code",
      "source": [
        "#docker_env.docker.base_image = \"nnunet.azurecr.io/training_env\" # example : \"fastdotai/fastai2:latest\"\n",
        "#docker_env.python.user_managed_dependencies = True\n",
        "\n",
        "deployment = ManagedOnlineDeployment(\n",
        "    name=name,\n",
        "    environment=Environment(image=\"nnunet.azurecr.io/prediction_env:latest\"),\n",
        "    endpoint_name=online_endpoint_name,\n",
        "    model=registered_model.id,\n",
        "    instance_type=\"Standard_DS1_v2\", #\"Standard_DS2_v2\",\n",
        "    code_configuration=CodeConfiguration(code=\"\", scoring_script=\"src/score.py\"),\n",
        "    instance_count=1,\n",
        "    liveness_probe=ProbeSettings(\n",
        "        failure_threshold=30,\n",
        "        success_threshold=1,\n",
        "        timeout=2,\n",
        "        period=10,\n",
        "        initial_delay=2000,\n",
        "    ),\n",
        "    readiness_probe=ProbeSettings(\n",
        "        failure_threshold=10,\n",
        "        success_threshold=1,\n",
        "        timeout=10,\n",
        "        period=10,\n",
        "        initial_delay=2000,\n",
        "    ),\n",
        ")"
      ],
      "outputs": [],
      "execution_count": 53,
      "metadata": {
        "jupyter": {
          "source_hidden": false,
          "outputs_hidden": false
        },
        "nteract": {
          "transient": {
            "deleting": false
          }
        },
        "gather": {
          "logged": 1689353707423
        }
      }
    },
    {
      "cell_type": "code",
      "source": [
        "ml_client.online_deployments.begin_create_or_update(deployment).result()\n"
      ],
      "outputs": [
        {
          "output_type": "stream",
          "name": "stderr",
          "text": "Check: endpoint nnunet-model-07141653760676 exists\n\u001b[32mUploading avaj1870 (0.58 MBs): 100%|██████████| 583512/583512 [00:00<00:00, 804867.80it/s] \n\u001b[39m\n\ndata_collector is not a known attribute of class <class 'azure.ai.ml._restclient.v2022_02_01_preview.models._models_py3.ManagedOnlineDeployment'> and will be ignored\n"
        },
        {
          "output_type": "stream",
          "name": "stdout",
          "text": "..........................................................................................................................................................................................................................................................................................................................................................................................................................................................................................................."
        },
        {
          "output_type": "execute_result",
          "execution_count": 54,
          "data": {
            "text/plain": "ManagedOnlineDeployment({'private_network_connection': False, 'data_collector': None, 'provisioning_state': 'Succeeded', 'endpoint_name': 'nnunet-model-07141653760676', 'type': 'Managed', 'name': 'nnunet-devops-test-2', 'description': None, 'tags': {}, 'properties': {'AzureAsyncOperationUri': 'https://management.azure.com/subscriptions/e5fb5c5f-cb5c-42c8-86b6-cf4fd5aac11b/providers/Microsoft.MachineLearningServices/locations/eastus2/mfeOperationsStatus/od:438978f1-ead1-47c3-ad8e-c77be361c727:134e9904-b06b-42f5-959f-5efe28777418?api-version=2022-02-01-preview'}, 'id': '/subscriptions/e5fb5c5f-cb5c-42c8-86b6-cf4fd5aac11b/resourceGroups/azureml-test/providers/Microsoft.MachineLearningServices/workspaces/nnunet/onlineEndpoints/nnunet-model-07141653760676/deployments/nnunet-devops-test-2', 'Resource__source_path': None, 'base_path': '/mnt/batch/tasks/shared/LS_root/mounts/clusters/avaj18701/code/Users/avaj1870', 'creation_context': None, 'serialize': <msrest.serialization.Serializer object at 0x7f694cc03e80>, 'model': '/subscriptions/e5fb5c5f-cb5c-42c8-86b6-cf4fd5aac11b/resourceGroups/azureml-test/providers/Microsoft.MachineLearningServices/workspaces/nnunet/models/iamnewtestmodel/versions/9', 'code_configuration': {'code': '/subscriptions/e5fb5c5f-cb5c-42c8-86b6-cf4fd5aac11b/resourceGroups/azureml-test/providers/Microsoft.MachineLearningServices/workspaces/nnunet/codes/af40ce12-aaac-40be-af3d-5aa32acab3f8/versions/1'}, 'environment': '/subscriptions/e5fb5c5f-cb5c-42c8-86b6-cf4fd5aac11b/resourceGroups/azureml-test/providers/Microsoft.MachineLearningServices/workspaces/nnunet/environments/CliV2AnonymousEnvironment/versions/dafe1540ef928b1e2070e8be80668ffe', 'environment_variables': {}, 'app_insights_enabled': False, 'scale_settings': <azure.ai.ml.entities._deployment.scale_settings.DefaultScaleSettings object at 0x7f694cc003d0>, 'request_settings': <azure.ai.ml.entities._deployment.deployment_settings.OnlineRequestSettings object at 0x7f694cc02c50>, 'liveness_probe': <azure.ai.ml.entities._deployment.deployment_settings.ProbeSettings object at 0x7f694cc011e0>, 'readiness_probe': <azure.ai.ml.entities._deployment.deployment_settings.ProbeSettings object at 0x7f694cc02bf0>, 'instance_count': 1, 'arm_type': 'online_deployment', 'model_mount_path': None, 'instance_type': 'Standard_DS1_v2', 'egress_public_network_access': 'Enabled'})"
          },
          "metadata": {}
        }
      ],
      "execution_count": 54,
      "metadata": {
        "jupyter": {
          "source_hidden": false,
          "outputs_hidden": false
        },
        "nteract": {
          "transient": {
            "deleting": false
          }
        },
        "gather": {
          "logged": 1689356301307
        }
      }
    },
    {
      "cell_type": "code",
      "source": [
        "# update deployment to take 100% traffic\n",
        "endpoint.traffic = {name: 0}\n",
        "ml_client.begin_create_or_update(endpoint).result()"
      ],
      "outputs": [
        {
          "output_type": "execute_result",
          "execution_count": 55,
          "data": {
            "text/plain": "ManagedOnlineEndpoint({'public_network_access': 'Enabled', 'provisioning_state': 'Succeeded', 'scoring_uri': 'https://nnunet-model-07141653760676.eastus2.inference.ml.azure.com/score', 'openapi_uri': 'https://nnunet-model-07141653760676.eastus2.inference.ml.azure.com/swagger.json', 'name': 'nnunet-model-07141653760676', 'description': '', 'tags': {'foo': 'bar'}, 'properties': {'azureml.onlineendpointid': '/subscriptions/e5fb5c5f-cb5c-42c8-86b6-cf4fd5aac11b/resourcegroups/azureml-test/providers/microsoft.machinelearningservices/workspaces/nnunet/onlineendpoints/nnunet-model-07141653760676', 'AzureAsyncOperationUri': 'https://management.azure.com/subscriptions/e5fb5c5f-cb5c-42c8-86b6-cf4fd5aac11b/providers/Microsoft.MachineLearningServices/locations/eastus2/mfeOperationsStatus/oe:438978f1-ead1-47c3-ad8e-c77be361c727:c69c855d-3bfb-45a7-bc34-65fac277d5a8?api-version=2022-02-01-preview'}, 'id': '/subscriptions/e5fb5c5f-cb5c-42c8-86b6-cf4fd5aac11b/resourceGroups/azureml-test/providers/Microsoft.MachineLearningServices/workspaces/nnunet/onlineEndpoints/nnunet-model-07141653760676', 'Resource__source_path': None, 'base_path': '/mnt/batch/tasks/shared/LS_root/mounts/clusters/avaj18701/code/Users/avaj1870', 'creation_context': None, 'serialize': <msrest.serialization.Serializer object at 0x7f694cc01120>, 'auth_mode': 'key', 'location': 'eastus2', 'identity': <azure.ai.ml.entities._credentials.IdentityConfiguration object at 0x7f694cc03070>, 'traffic': {}, 'mirror_traffic': {}, 'kind': 'Managed'})"
          },
          "metadata": {}
        }
      ],
      "execution_count": 55,
      "metadata": {
        "jupyter": {
          "source_hidden": false,
          "outputs_hidden": false
        },
        "nteract": {
          "transient": {
            "deleting": false
          }
        },
        "gather": {
          "logged": 1689356344804
        }
      }
    },
    {
      "cell_type": "code",
      "source": [],
      "outputs": [],
      "execution_count": null,
      "metadata": {
        "jupyter": {
          "source_hidden": false,
          "outputs_hidden": false
        },
        "nteract": {
          "transient": {
            "deleting": false
          }
        }
      }
    }
  ],
  "metadata": {
    "kernelspec": {
      "name": "python310-sdkv2",
      "language": "python",
      "display_name": "Python 3.10 - SDK v2"
    },
    "language_info": {
      "name": "python",
      "version": "3.10.9",
      "mimetype": "text/x-python",
      "codemirror_mode": {
        "name": "ipython",
        "version": 3
      },
      "pygments_lexer": "ipython3",
      "nbconvert_exporter": "python",
      "file_extension": ".py"
    },
    "microsoft": {
      "ms_spell_check": {
        "ms_spell_check_language": "en"
      },
      "host": {
        "AzureML": {
          "notebookHasBeenCompleted": true
        }
      }
    },
    "kernel_info": {
      "name": "python310-sdkv2"
    },
    "nteract": {
      "version": "nteract-front-end@1.0.0"
    }
  },
  "nbformat": 4,
  "nbformat_minor": 2
}