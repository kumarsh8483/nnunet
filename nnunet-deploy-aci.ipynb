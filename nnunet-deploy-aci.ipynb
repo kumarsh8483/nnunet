{
  "cells": [
    {
      "cell_type": "code",
      "source": [
        "# import required libraries\n",
        "import os\n",
        "import datetime\n",
        "from azure.ai.ml.constants import AssetTypes\n",
        "\n",
        "from azureml.core import (\n",
        "    Workspace,\n",
        "    Datastore,\n",
        "    Environment,\n",
        "    RunConfiguration,\n",
        "    ScriptRunConfig,\n",
        "    Experiment,\n",
        "    Workspace,\n",
        "    Run,\n",
        "    Model\n",
        ")\n",
        "from azureml.core.model import InferenceConfig, Model\n",
        "from azureml.core.webservice import AciWebservice\n",
        "\n",
        "from azure.identity import DefaultAzureCredential\n"
      ],
      "outputs": [],
      "execution_count": 38,
      "metadata": {
        "gather": {
          "logged": 1690446134367
        }
      }
    },
    {
      "cell_type": "code",
      "source": [
        "# required definitons\n",
        "environment_name = 'my-env'\n",
        "model_name = 'nnunet-devops-test-2'\n",
        "#Define the size and location of our deployed compute\n",
        "cpu_cores = 2\n",
        "memory_gb = 8\n",
        "location = 'eastus'\n",
        "service_name = 'my-service'\n",
        "model_download_dir = './model_outputs'\n",
        "\n",
        "# required information\n",
        "environment_image = 'nnunet.azurecr.io/prediction_env'\n",
        "experiment_name = 'nnunet-devops-test-2'\n",
        "entry_script = 'score.py'\n",
        "source_directory = 'src'\n",
        "run_id = \"d134788d-094b-4cfa-b38b-c2eced07ba53\" #\"d6c83f1e-97a7-48a1-b4db-a308de7bd9e2\" # gets the latest if empty"
      ],
      "outputs": [],
      "execution_count": 39,
      "metadata": {
        "jupyter": {
          "source_hidden": false,
          "outputs_hidden": false
        },
        "nteract": {
          "transient": {
            "deleting": false
          }
        },
        "gather": {
          "logged": 1690446136339
        }
      }
    },
    {
      "cell_type": "code",
      "source": [
        "workspace = Workspace.from_config()\n",
        "\n",
        "# get experiment\n",
        "experiment = Experiment(workspace, experiment_name)\n",
        "# get experiment's latest run id\n",
        "if run_id:\n",
        "    latest_run = Run(experiment, run_id) \n",
        "else:\n",
        "    latest_run = next(experiment.get_runs())\n",
        "    \n",
        "model_path = f\"dataset/{run_id}/nnUNet/\"\n",
        "\n",
        "ds = workspace.get_default_datastore()\n",
        "ds.download(target_path=\"./model_outputs\", prefix=model_path, overwrite=True)\n",
        "\n",
        "# register the model\n",
        "\n",
        "# model registration procedure\n",
        "registered_model = Model.register(\n",
        "                model_path=os.path.join(model_download_dir, model_path),\n",
        "                model_name=model_name,\n",
        "                workspace=workspace)\n",
        "\n",
        "# Model files downloading process overrides model_download_directory.\n",
        "# Thus, no need to remove directory.\n"
      ],
      "outputs": [
        {
          "output_type": "stream",
          "name": "stdout",
          "text": "Downloading dataset/d134788d-094b-4cfa-b38b-c2eced07ba53/nnUNet/nnUNet/2d/Task005_Prostate/nnUNetTrainer__nnUNetPlansv2.1/all/debug.json\nDownloaded dataset/d134788d-094b-4cfa-b38b-c2eced07ba53/nnUNet/nnUNet/2d/Task005_Prostate/nnUNetTrainer__nnUNetPlansv2.1/all/debug.json, 1 files out of an estimated total of 106\nDownloading dataset/d134788d-094b-4cfa-b38b-c2eced07ba53/nnUNet/nnUNet/2d/Task005_Prostate/nnUNetTrainer__nnUNetPlansv2.1/all/model_final_checkpoint.model.pkl\nDownloaded dataset/d134788d-094b-4cfa-b38b-c2eced07ba53/nnUNet/nnUNet/2d/Task005_Prostate/nnUNetTrainer__nnUNetPlansv2.1/all/model_final_checkpoint.model.pkl, 2 files out of an estimated total of 106\nDownloading dataset/d134788d-094b-4cfa-b38b-c2eced07ba53/nnUNet/nnUNet/2d/Task005_Prostate/nnUNetTrainer__nnUNetPlansv2.1/all/postprocessing.json\nDownloaded dataset/d134788d-094b-4cfa-b38b-c2eced07ba53/nnUNet/nnUNet/2d/Task005_Prostate/nnUNetTrainer__nnUNetPlansv2.1/all/postprocessing.json, 3 files out of an estimated total of 106\nDownloading dataset/d134788d-094b-4cfa-b38b-c2eced07ba53/nnUNet/nnUNet/2d/Task005_Prostate/nnUNetTrainer__nnUNetPlansv2.1/all/progress.png\nDownloaded dataset/d134788d-094b-4cfa-b38b-c2eced07ba53/nnUNet/nnUNet/2d/Task005_Prostate/nnUNetTrainer__nnUNetPlansv2.1/all/progress.png, 4 files out of an estimated total of 106\nDownloading dataset/d134788d-094b-4cfa-b38b-c2eced07ba53/nnUNet/nnUNet/2d/Task005_Prostate/nnUNetTrainer__nnUNetPlansv2.1/all/validation_raw/prostate_00.nii.gz\nDownloaded dataset/d134788d-094b-4cfa-b38b-c2eced07ba53/nnUNet/nnUNet/2d/Task005_Prostate/nnUNetTrainer__nnUNetPlansv2.1/all/validation_raw/prostate_00.nii.gz, 5 files out of an estimated total of 106\nDownloading dataset/d134788d-094b-4cfa-b38b-c2eced07ba53/nnUNet/nnUNet/2d/Task005_Prostate/nnUNetTrainer__nnUNetPlansv2.1/all/validation_raw/prostate_01.nii.gz\nDownloaded dataset/d134788d-094b-4cfa-b38b-c2eced07ba53/nnUNet/nnUNet/2d/Task005_Prostate/nnUNetTrainer__nnUNetPlansv2.1/all/validation_raw/prostate_01.nii.gz, 6 files out of an estimated total of 106\nDownloading dataset/d134788d-094b-4cfa-b38b-c2eced07ba53/nnUNet/nnUNet/2d/Task005_Prostate/nnUNetTrainer__nnUNetPlansv2.1/all/validation_raw/prostate_02.nii.gz\nDownloaded dataset/d134788d-094b-4cfa-b38b-c2eced07ba53/nnUNet/nnUNet/2d/Task005_Prostate/nnUNetTrainer__nnUNetPlansv2.1/all/validation_raw/prostate_02.nii.gz, 7 files out of an estimated total of 106\nDownloading dataset/d134788d-094b-4cfa-b38b-c2eced07ba53/nnUNet/nnUNet/2d/Task005_Prostate/nnUNetTrainer__nnUNetPlansv2.1/all/validation_raw/prostate_04.nii.gz\nDownloaded dataset/d134788d-094b-4cfa-b38b-c2eced07ba53/nnUNet/nnUNet/2d/Task005_Prostate/nnUNetTrainer__nnUNetPlansv2.1/all/validation_raw/prostate_04.nii.gz, 8 files out of an estimated total of 106\nDownloading dataset/d134788d-094b-4cfa-b38b-c2eced07ba53/nnUNet/nnUNet/2d/Task005_Prostate/nnUNetTrainer__nnUNetPlansv2.1/all/validation_raw/prostate_06.nii.gz\nDownloaded dataset/d134788d-094b-4cfa-b38b-c2eced07ba53/nnUNet/nnUNet/2d/Task005_Prostate/nnUNetTrainer__nnUNetPlansv2.1/all/validation_raw/prostate_06.nii.gz, 9 files out of an estimated total of 106\nDownloading dataset/d134788d-094b-4cfa-b38b-c2eced07ba53/nnUNet/nnUNet/2d/Task005_Prostate/nnUNetTrainer__nnUNetPlansv2.1/all/validation_raw/prostate_07.nii.gz\nDownloaded dataset/d134788d-094b-4cfa-b38b-c2eced07ba53/nnUNet/nnUNet/2d/Task005_Prostate/nnUNetTrainer__nnUNetPlansv2.1/all/validation_raw/prostate_07.nii.gz, 10 files out of an estimated total of 106\nDownloading dataset/d134788d-094b-4cfa-b38b-c2eced07ba53/nnUNet/nnUNet/2d/Task005_Prostate/nnUNetTrainer__nnUNetPlansv2.1/all/validation_raw/prostate_13.nii.gz\nDownloaded dataset/d134788d-094b-4cfa-b38b-c2eced07ba53/nnUNet/nnUNet/2d/Task005_Prostate/nnUNetTrainer__nnUNetPlansv2.1/all/validation_raw/prostate_13.nii.gz, 11 files out of an estimated total of 106\nDownloading dataset/d134788d-094b-4cfa-b38b-c2eced07ba53/nnUNet/nnUNet/2d/Task005_Prostate/nnUNetTrainer__nnUNetPlansv2.1/all/validation_raw/prostate_14.nii.gz\nDownloaded dataset/d134788d-094b-4cfa-b38b-c2eced07ba53/nnUNet/nnUNet/2d/Task005_Prostate/nnUNetTrainer__nnUNetPlansv2.1/all/validation_raw/prostate_14.nii.gz, 12 files out of an estimated total of 106\nDownloading dataset/d134788d-094b-4cfa-b38b-c2eced07ba53/nnUNet/nnUNet/2d/Task005_Prostate/nnUNetTrainer__nnUNetPlansv2.1/all/validation_raw/prostate_10.nii.gz\nDownloaded dataset/d134788d-094b-4cfa-b38b-c2eced07ba53/nnUNet/nnUNet/2d/Task005_Prostate/nnUNetTrainer__nnUNetPlansv2.1/all/validation_raw/prostate_10.nii.gz, 13 files out of an estimated total of 106\nDownloading dataset/d134788d-094b-4cfa-b38b-c2eced07ba53/nnUNet/nnUNet/2d/Task005_Prostate/nnUNetTrainer__nnUNetPlansv2.1/all/validation_raw/prostate_16.nii.gz\nDownloaded dataset/d134788d-094b-4cfa-b38b-c2eced07ba53/nnUNet/nnUNet/2d/Task005_Prostate/nnUNetTrainer__nnUNetPlansv2.1/all/validation_raw/prostate_16.nii.gz, 14 files out of an estimated total of 106\nDownloading dataset/d134788d-094b-4cfa-b38b-c2eced07ba53/nnUNet/nnUNet/2d/Task005_Prostate/nnUNetTrainer__nnUNetPlansv2.1/all/validation_raw/prostate_17.nii.gz\nDownloaded dataset/d134788d-094b-4cfa-b38b-c2eced07ba53/nnUNet/nnUNet/2d/Task005_Prostate/nnUNetTrainer__nnUNetPlansv2.1/all/validation_raw/prostate_17.nii.gz, 15 files out of an estimated total of 106\nDownloading dataset/d134788d-094b-4cfa-b38b-c2eced07ba53/nnUNet/nnUNet/2d/Task005_Prostate/nnUNetTrainer__nnUNetPlansv2.1/all/validation_raw/prostate_18.nii.gz\nDownloaded dataset/d134788d-094b-4cfa-b38b-c2eced07ba53/nnUNet/nnUNet/2d/Task005_Prostate/nnUNetTrainer__nnUNetPlansv2.1/all/validation_raw/prostate_18.nii.gz, 16 files out of an estimated total of 106\nDownloading dataset/d134788d-094b-4cfa-b38b-c2eced07ba53/nnUNet/nnUNet/2d/Task005_Prostate/nnUNetTrainer__nnUNetPlansv2.1/all/validation_raw/prostate_20.nii.gz\nDownloaded dataset/d134788d-094b-4cfa-b38b-c2eced07ba53/nnUNet/nnUNet/2d/Task005_Prostate/nnUNetTrainer__nnUNetPlansv2.1/all/validation_raw/prostate_20.nii.gz, 17 files out of an estimated total of 106\nDownloading dataset/d134788d-094b-4cfa-b38b-c2eced07ba53/nnUNet/nnUNet/2d/Task005_Prostate/nnUNetTrainer__nnUNetPlansv2.1/all/validation_raw/prostate_21.nii.gz\nDownloaded dataset/d134788d-094b-4cfa-b38b-c2eced07ba53/nnUNet/nnUNet/2d/Task005_Prostate/nnUNetTrainer__nnUNetPlansv2.1/all/validation_raw/prostate_21.nii.gz, 18 files out of an estimated total of 106\nDownloading dataset/d134788d-094b-4cfa-b38b-c2eced07ba53/nnUNet/nnUNet/2d/Task005_Prostate/nnUNetTrainer__nnUNetPlansv2.1/all/validation_raw/prostate_24.nii.gz\nDownloaded dataset/d134788d-094b-4cfa-b38b-c2eced07ba53/nnUNet/nnUNet/2d/Task005_Prostate/nnUNetTrainer__nnUNetPlansv2.1/all/validation_raw/prostate_24.nii.gz, 19 files out of an estimated total of 106\nDownloading dataset/d134788d-094b-4cfa-b38b-c2eced07ba53/nnUNet/nnUNet/2d/Task005_Prostate/nnUNetTrainer__nnUNetPlansv2.1/all/validation_raw/prostate_25.nii.gz\nDownloaded dataset/d134788d-094b-4cfa-b38b-c2eced07ba53/nnUNet/nnUNet/2d/Task005_Prostate/nnUNetTrainer__nnUNetPlansv2.1/all/validation_raw/prostate_25.nii.gz, 20 files out of an estimated total of 106\nDownloading dataset/d134788d-094b-4cfa-b38b-c2eced07ba53/nnUNet/nnUNet/2d/Task005_Prostate/nnUNetTrainer__nnUNetPlansv2.1/all/validation_raw/prostate_28.nii.gz\nDownloaded dataset/d134788d-094b-4cfa-b38b-c2eced07ba53/nnUNet/nnUNet/2d/Task005_Prostate/nnUNetTrainer__nnUNetPlansv2.1/all/validation_raw/prostate_28.nii.gz, 21 files out of an estimated total of 106\nDownloading dataset/d134788d-094b-4cfa-b38b-c2eced07ba53/nnUNet/nnUNet/2d/Task005_Prostate/nnUNetTrainer__nnUNetPlansv2.1/all/validation_raw/prostate_29.nii.gz\nDownloaded dataset/d134788d-094b-4cfa-b38b-c2eced07ba53/nnUNet/nnUNet/2d/Task005_Prostate/nnUNetTrainer__nnUNetPlansv2.1/all/validation_raw/prostate_29.nii.gz, 22 files out of an estimated total of 106\nDownloading dataset/d134788d-094b-4cfa-b38b-c2eced07ba53/nnUNet/nnUNet/2d/Task005_Prostate/nnUNetTrainer__nnUNetPlansv2.1/all/validation_raw/prostate_31.nii.gz\nDownloaded dataset/d134788d-094b-4cfa-b38b-c2eced07ba53/nnUNet/nnUNet/2d/Task005_Prostate/nnUNetTrainer__nnUNetPlansv2.1/all/validation_raw/prostate_31.nii.gz, 23 files out of an estimated total of 106\nDownloading dataset/d134788d-094b-4cfa-b38b-c2eced07ba53/nnUNet/nnUNet/2d/Task005_Prostate/nnUNetTrainer__nnUNetPlansv2.1/all/validation_raw/prostate_32.nii.gz\nDownloaded dataset/d134788d-094b-4cfa-b38b-c2eced07ba53/nnUNet/nnUNet/2d/Task005_Prostate/nnUNetTrainer__nnUNetPlansv2.1/all/validation_raw/prostate_32.nii.gz, 24 files out of an estimated total of 106\nDownloading dataset/d134788d-094b-4cfa-b38b-c2eced07ba53/nnUNet/nnUNet/2d/Task005_Prostate/nnUNetTrainer__nnUNetPlansv2.1/all/validation_raw/prostate_34.nii.gz\nDownloaded dataset/d134788d-094b-4cfa-b38b-c2eced07ba53/nnUNet/nnUNet/2d/Task005_Prostate/nnUNetTrainer__nnUNetPlansv2.1/all/validation_raw/prostate_34.nii.gz, 25 files out of an estimated total of 106\nDownloading dataset/d134788d-094b-4cfa-b38b-c2eced07ba53/nnUNet/nnUNet/2d/Task005_Prostate/nnUNetTrainer__nnUNetPlansv2.1/all/validation_raw/prostate_35.nii.gz\nDownloaded dataset/d134788d-094b-4cfa-b38b-c2eced07ba53/nnUNet/nnUNet/2d/Task005_Prostate/nnUNetTrainer__nnUNetPlansv2.1/all/validation_raw/prostate_35.nii.gz, 26 files out of an estimated total of 106\nDownloading dataset/d134788d-094b-4cfa-b38b-c2eced07ba53/nnUNet/nnUNet/2d/Task005_Prostate/nnUNetTrainer__nnUNetPlansv2.1/all/validation_raw/prostate_37.nii.gz\nDownloaded dataset/d134788d-094b-4cfa-b38b-c2eced07ba53/nnUNet/nnUNet/2d/Task005_Prostate/nnUNetTrainer__nnUNetPlansv2.1/all/validation_raw/prostate_37.nii.gz, 27 files out of an estimated total of 106\nDownloading dataset/d134788d-094b-4cfa-b38b-c2eced07ba53/nnUNet/nnUNet/2d/Task005_Prostate/nnUNetTrainer__nnUNetPlansv2.1/all/validation_raw/prostate_38.nii.gz\nDownloaded dataset/d134788d-094b-4cfa-b38b-c2eced07ba53/nnUNet/nnUNet/2d/Task005_Prostate/nnUNetTrainer__nnUNetPlansv2.1/all/validation_raw/prostate_38.nii.gz, 28 files out of an estimated total of 106\nDownloading dataset/d134788d-094b-4cfa-b38b-c2eced07ba53/nnUNet/nnUNet/2d/Task005_Prostate/nnUNetTrainer__nnUNetPlansv2.1/all/validation_raw/prostate_39.nii.gz\nDownloaded dataset/d134788d-094b-4cfa-b38b-c2eced07ba53/nnUNet/nnUNet/2d/Task005_Prostate/nnUNetTrainer__nnUNetPlansv2.1/all/validation_raw/prostate_39.nii.gz, 29 files out of an estimated total of 106\nDownloading dataset/d134788d-094b-4cfa-b38b-c2eced07ba53/nnUNet/nnUNet/2d/Task005_Prostate/nnUNetTrainer__nnUNetPlansv2.1/all/validation_raw/prostate_40.nii.gz\nDownloaded dataset/d134788d-094b-4cfa-b38b-c2eced07ba53/nnUNet/nnUNet/2d/Task005_Prostate/nnUNetTrainer__nnUNetPlansv2.1/all/validation_raw/prostate_40.nii.gz, 30 files out of an estimated total of 106\nDownloading dataset/d134788d-094b-4cfa-b38b-c2eced07ba53/nnUNet/nnUNet/2d/Task005_Prostate/nnUNetTrainer__nnUNetPlansv2.1/all/validation_raw/prostate_41.nii.gz\nDownloaded dataset/d134788d-094b-4cfa-b38b-c2eced07ba53/nnUNet/nnUNet/2d/Task005_Prostate/nnUNetTrainer__nnUNetPlansv2.1/all/validation_raw/prostate_41.nii.gz, 31 files out of an estimated total of 106\nDownloading dataset/d134788d-094b-4cfa-b38b-c2eced07ba53/nnUNet/nnUNet/2d/Task005_Prostate/nnUNetTrainer__nnUNetPlansv2.1/all/validation_raw/prostate_42.nii.gz\nDownloaded dataset/d134788d-094b-4cfa-b38b-c2eced07ba53/nnUNet/nnUNet/2d/Task005_Prostate/nnUNetTrainer__nnUNetPlansv2.1/all/validation_raw/prostate_42.nii.gz, 32 files out of an estimated total of 106\nDownloading dataset/d134788d-094b-4cfa-b38b-c2eced07ba53/nnUNet/nnUNet/2d/Task005_Prostate/nnUNetTrainer__nnUNetPlansv2.1/all/validation_raw/prostate_43.nii.gz\nDownloaded dataset/d134788d-094b-4cfa-b38b-c2eced07ba53/nnUNet/nnUNet/2d/Task005_Prostate/nnUNetTrainer__nnUNetPlansv2.1/all/validation_raw/prostate_43.nii.gz, 33 files out of an estimated total of 106\nDownloading dataset/d134788d-094b-4cfa-b38b-c2eced07ba53/nnUNet/nnUNet/2d/Task005_Prostate/nnUNetTrainer__nnUNetPlansv2.1/all/validation_raw/prostate_44.nii.gz\nDownloaded dataset/d134788d-094b-4cfa-b38b-c2eced07ba53/nnUNet/nnUNet/2d/Task005_Prostate/nnUNetTrainer__nnUNetPlansv2.1/all/validation_raw/prostate_44.nii.gz, 34 files out of an estimated total of 106\nDownloading dataset/d134788d-094b-4cfa-b38b-c2eced07ba53/nnUNet/nnUNet/2d/Task005_Prostate/nnUNetTrainer__nnUNetPlansv2.1/all/validation_raw/prostate_46.nii.gz\nDownloaded dataset/d134788d-094b-4cfa-b38b-c2eced07ba53/nnUNet/nnUNet/2d/Task005_Prostate/nnUNetTrainer__nnUNetPlansv2.1/all/validation_raw/prostate_46.nii.gz, 35 files out of an estimated total of 106\nDownloading dataset/d134788d-094b-4cfa-b38b-c2eced07ba53/nnUNet/nnUNet/2d/Task005_Prostate/nnUNetTrainer__nnUNetPlansv2.1/all/validation_raw/prostate_47.nii.gz\nDownloaded dataset/d134788d-094b-4cfa-b38b-c2eced07ba53/nnUNet/nnUNet/2d/Task005_Prostate/nnUNetTrainer__nnUNetPlansv2.1/all/validation_raw/prostate_47.nii.gz, 36 files out of an estimated total of 106\nDownloading dataset/d134788d-094b-4cfa-b38b-c2eced07ba53/nnUNet/nnUNet/2d/Task005_Prostate/nnUNetTrainer__nnUNetPlansv2.1/all/validation_raw/summary.json\nDownloaded dataset/d134788d-094b-4cfa-b38b-c2eced07ba53/nnUNet/nnUNet/2d/Task005_Prostate/nnUNetTrainer__nnUNetPlansv2.1/all/validation_raw/summary.json, 37 files out of an estimated total of 106\nDownloading dataset/d134788d-094b-4cfa-b38b-c2eced07ba53/nnUNet/nnUNet/2d/Task005_Prostate/nnUNetTrainer__nnUNetPlansv2.1/all/validation_raw/validation_args.json\nDownloaded dataset/d134788d-094b-4cfa-b38b-c2eced07ba53/nnUNet/nnUNet/2d/Task005_Prostate/nnUNetTrainer__nnUNetPlansv2.1/all/validation_raw/validation_args.json, 38 files out of an estimated total of 106\nDownloading dataset/d134788d-094b-4cfa-b38b-c2eced07ba53/nnUNet/nnUNet/2d/Task005_Prostate/nnUNetTrainer__nnUNetPlansv2.1/all/validation_raw_postprocessed/prostate_00.nii.gz\nDownloaded dataset/d134788d-094b-4cfa-b38b-c2eced07ba53/nnUNet/nnUNet/2d/Task005_Prostate/nnUNetTrainer__nnUNetPlansv2.1/all/validation_raw_postprocessed/prostate_00.nii.gz, 39 files out of an estimated total of 106\nDownloading dataset/d134788d-094b-4cfa-b38b-c2eced07ba53/nnUNet/nnUNet/2d/Task005_Prostate/nnUNetTrainer__nnUNetPlansv2.1/all/validation_raw_postprocessed/prostate_01.nii.gz\nDownloaded dataset/d134788d-094b-4cfa-b38b-c2eced07ba53/nnUNet/nnUNet/2d/Task005_Prostate/nnUNetTrainer__nnUNetPlansv2.1/all/validation_raw_postprocessed/prostate_01.nii.gz, 40 files out of an estimated total of 106\nDownloading dataset/d134788d-094b-4cfa-b38b-c2eced07ba53/nnUNet/nnUNet/2d/Task005_Prostate/nnUNetTrainer__nnUNetPlansv2.1/all/validation_raw_postprocessed/prostate_02.nii.gz\nDownloaded dataset/d134788d-094b-4cfa-b38b-c2eced07ba53/nnUNet/nnUNet/2d/Task005_Prostate/nnUNetTrainer__nnUNetPlansv2.1/all/validation_raw_postprocessed/prostate_02.nii.gz, 41 files out of an estimated total of 106\nDownloading dataset/d134788d-094b-4cfa-b38b-c2eced07ba53/nnUNet/nnUNet/2d/Task005_Prostate/nnUNetTrainer__nnUNetPlansv2.1/all/validation_raw_postprocessed/prostate_04.nii.gz\nDownloaded dataset/d134788d-094b-4cfa-b38b-c2eced07ba53/nnUNet/nnUNet/2d/Task005_Prostate/nnUNetTrainer__nnUNetPlansv2.1/all/validation_raw_postprocessed/prostate_04.nii.gz, 42 files out of an estimated total of 106\nDownloading dataset/d134788d-094b-4cfa-b38b-c2eced07ba53/nnUNet/nnUNet/2d/Task005_Prostate/nnUNetTrainer__nnUNetPlansv2.1/all/validation_raw_postprocessed/prostate_06.nii.gz\nDownloaded dataset/d134788d-094b-4cfa-b38b-c2eced07ba53/nnUNet/nnUNet/2d/Task005_Prostate/nnUNetTrainer__nnUNetPlansv2.1/all/validation_raw_postprocessed/prostate_06.nii.gz, 43 files out of an estimated total of 106\nDownloading dataset/d134788d-094b-4cfa-b38b-c2eced07ba53/nnUNet/nnUNet/2d/Task005_Prostate/nnUNetTrainer__nnUNetPlansv2.1/all/validation_raw_postprocessed/prostate_07.nii.gz\nDownloaded dataset/d134788d-094b-4cfa-b38b-c2eced07ba53/nnUNet/nnUNet/2d/Task005_Prostate/nnUNetTrainer__nnUNetPlansv2.1/all/validation_raw_postprocessed/prostate_07.nii.gz, 44 files out of an estimated total of 106\nDownloading dataset/d134788d-094b-4cfa-b38b-c2eced07ba53/nnUNet/nnUNet/2d/Task005_Prostate/nnUNetTrainer__nnUNetPlansv2.1/all/validation_raw_postprocessed/prostate_10.nii.gz\nDownloaded dataset/d134788d-094b-4cfa-b38b-c2eced07ba53/nnUNet/nnUNet/2d/Task005_Prostate/nnUNetTrainer__nnUNetPlansv2.1/all/validation_raw_postprocessed/prostate_10.nii.gz, 45 files out of an estimated total of 106\nDownloading dataset/d134788d-094b-4cfa-b38b-c2eced07ba53/nnUNet/nnUNet/2d/Task005_Prostate/nnUNetTrainer__nnUNetPlansv2.1/all/validation_raw_postprocessed/prostate_13.nii.gz\nDownloaded dataset/d134788d-094b-4cfa-b38b-c2eced07ba53/nnUNet/nnUNet/2d/Task005_Prostate/nnUNetTrainer__nnUNetPlansv2.1/all/validation_raw_postprocessed/prostate_13.nii.gz, 46 files out of an estimated total of 106\nDownloading dataset/d134788d-094b-4cfa-b38b-c2eced07ba53/nnUNet/nnUNet/2d/Task005_Prostate/nnUNetTrainer__nnUNetPlansv2.1/all/validation_raw_postprocessed/prostate_14.nii.gz\nDownloaded dataset/d134788d-094b-4cfa-b38b-c2eced07ba53/nnUNet/nnUNet/2d/Task005_Prostate/nnUNetTrainer__nnUNetPlansv2.1/all/validation_raw_postprocessed/prostate_14.nii.gz, 47 files out of an estimated total of 106\nDownloading dataset/d134788d-094b-4cfa-b38b-c2eced07ba53/nnUNet/nnUNet/2d/Task005_Prostate/nnUNetTrainer__nnUNetPlansv2.1/all/validation_raw_postprocessed/prostate_16.nii.gz\nDownloaded dataset/d134788d-094b-4cfa-b38b-c2eced07ba53/nnUNet/nnUNet/2d/Task005_Prostate/nnUNetTrainer__nnUNetPlansv2.1/all/validation_raw_postprocessed/prostate_16.nii.gz, 48 files out of an estimated total of 106\nDownloading dataset/d134788d-094b-4cfa-b38b-c2eced07ba53/nnUNet/nnUNet/2d/Task005_Prostate/nnUNetTrainer__nnUNetPlansv2.1/all/validation_raw_postprocessed/prostate_17.nii.gz\nDownloaded dataset/d134788d-094b-4cfa-b38b-c2eced07ba53/nnUNet/nnUNet/2d/Task005_Prostate/nnUNetTrainer__nnUNetPlansv2.1/all/validation_raw_postprocessed/prostate_17.nii.gz, 49 files out of an estimated total of 106\nDownloading dataset/d134788d-094b-4cfa-b38b-c2eced07ba53/nnUNet/nnUNet/2d/Task005_Prostate/nnUNetTrainer__nnUNetPlansv2.1/all/validation_raw_postprocessed/prostate_18.nii.gz\nDownloaded dataset/d134788d-094b-4cfa-b38b-c2eced07ba53/nnUNet/nnUNet/2d/Task005_Prostate/nnUNetTrainer__nnUNetPlansv2.1/all/validation_raw_postprocessed/prostate_18.nii.gz, 50 files out of an estimated total of 106\nDownloading dataset/d134788d-094b-4cfa-b38b-c2eced07ba53/nnUNet/nnUNet/2d/Task005_Prostate/nnUNetTrainer__nnUNetPlansv2.1/all/validation_raw_postprocessed/prostate_20.nii.gz\nDownloaded dataset/d134788d-094b-4cfa-b38b-c2eced07ba53/nnUNet/nnUNet/2d/Task005_Prostate/nnUNetTrainer__nnUNetPlansv2.1/all/validation_raw_postprocessed/prostate_20.nii.gz, 51 files out of an estimated total of 106\nDownloading dataset/d134788d-094b-4cfa-b38b-c2eced07ba53/nnUNet/nnUNet/2d/Task005_Prostate/nnUNetTrainer__nnUNetPlansv2.1/all/validation_raw_postprocessed/prostate_21.nii.gz\nDownloaded dataset/d134788d-094b-4cfa-b38b-c2eced07ba53/nnUNet/nnUNet/2d/Task005_Prostate/nnUNetTrainer__nnUNetPlansv2.1/all/validation_raw_postprocessed/prostate_21.nii.gz, 52 files out of an estimated total of 106\nDownloading dataset/d134788d-094b-4cfa-b38b-c2eced07ba53/nnUNet/nnUNet/2d/Task005_Prostate/nnUNetTrainer__nnUNetPlansv2.1/all/validation_raw_postprocessed/prostate_24.nii.gz\nDownloaded dataset/d134788d-094b-4cfa-b38b-c2eced07ba53/nnUNet/nnUNet/2d/Task005_Prostate/nnUNetTrainer__nnUNetPlansv2.1/all/validation_raw_postprocessed/prostate_24.nii.gz, 53 files out of an estimated total of 106\nDownloading dataset/d134788d-094b-4cfa-b38b-c2eced07ba53/nnUNet/nnUNet/2d/Task005_Prostate/nnUNetTrainer__nnUNetPlansv2.1/all/validation_raw_postprocessed/prostate_25.nii.gz\nDownloaded dataset/d134788d-094b-4cfa-b38b-c2eced07ba53/nnUNet/nnUNet/2d/Task005_Prostate/nnUNetTrainer__nnUNetPlansv2.1/all/validation_raw_postprocessed/prostate_25.nii.gz, 54 files out of an estimated total of 106\nDownloading dataset/d134788d-094b-4cfa-b38b-c2eced07ba53/nnUNet/nnUNet/2d/Task005_Prostate/nnUNetTrainer__nnUNetPlansv2.1/all/validation_raw_postprocessed/prostate_28.nii.gz\nDownloaded dataset/d134788d-094b-4cfa-b38b-c2eced07ba53/nnUNet/nnUNet/2d/Task005_Prostate/nnUNetTrainer__nnUNetPlansv2.1/all/validation_raw_postprocessed/prostate_28.nii.gz, 55 files out of an estimated total of 106\nDownloading dataset/d134788d-094b-4cfa-b38b-c2eced07ba53/nnUNet/nnUNet/2d/Task005_Prostate/nnUNetTrainer__nnUNetPlansv2.1/all/validation_raw_postprocessed/prostate_29.nii.gz\nDownloaded dataset/d134788d-094b-4cfa-b38b-c2eced07ba53/nnUNet/nnUNet/2d/Task005_Prostate/nnUNetTrainer__nnUNetPlansv2.1/all/validation_raw_postprocessed/prostate_29.nii.gz, 56 files out of an estimated total of 106\nDownloading dataset/d134788d-094b-4cfa-b38b-c2eced07ba53/nnUNet/nnUNet/2d/Task005_Prostate/nnUNetTrainer__nnUNetPlansv2.1/all/validation_raw_postprocessed/prostate_31.nii.gz\nDownloaded dataset/d134788d-094b-4cfa-b38b-c2eced07ba53/nnUNet/nnUNet/2d/Task005_Prostate/nnUNetTrainer__nnUNetPlansv2.1/all/validation_raw_postprocessed/prostate_31.nii.gz, 57 files out of an estimated total of 106\nDownloading dataset/d134788d-094b-4cfa-b38b-c2eced07ba53/nnUNet/nnUNet/2d/Task005_Prostate/nnUNetTrainer__nnUNetPlansv2.1/all/validation_raw_postprocessed/prostate_32.nii.gz\nDownloaded dataset/d134788d-094b-4cfa-b38b-c2eced07ba53/nnUNet/nnUNet/2d/Task005_Prostate/nnUNetTrainer__nnUNetPlansv2.1/all/validation_raw_postprocessed/prostate_32.nii.gz, 58 files out of an estimated total of 106\nDownloading dataset/d134788d-094b-4cfa-b38b-c2eced07ba53/nnUNet/nnUNet/2d/Task005_Prostate/nnUNetTrainer__nnUNetPlansv2.1/all/validation_raw_postprocessed/prostate_34.nii.gz\nDownloaded dataset/d134788d-094b-4cfa-b38b-c2eced07ba53/nnUNet/nnUNet/2d/Task005_Prostate/nnUNetTrainer__nnUNetPlansv2.1/all/validation_raw_postprocessed/prostate_34.nii.gz, 59 files out of an estimated total of 106\nDownloading dataset/d134788d-094b-4cfa-b38b-c2eced07ba53/nnUNet/nnUNet/2d/Task005_Prostate/nnUNetTrainer__nnUNetPlansv2.1/all/validation_raw_postprocessed/prostate_35.nii.gz\nDownloaded dataset/d134788d-094b-4cfa-b38b-c2eced07ba53/nnUNet/nnUNet/2d/Task005_Prostate/nnUNetTrainer__nnUNetPlansv2.1/all/validation_raw_postprocessed/prostate_35.nii.gz, 60 files out of an estimated total of 106\nDownloading dataset/d134788d-094b-4cfa-b38b-c2eced07ba53/nnUNet/nnUNet/2d/Task005_Prostate/nnUNetTrainer__nnUNetPlansv2.1/all/validation_raw_postprocessed/prostate_37.nii.gz\nDownloaded dataset/d134788d-094b-4cfa-b38b-c2eced07ba53/nnUNet/nnUNet/2d/Task005_Prostate/nnUNetTrainer__nnUNetPlansv2.1/all/validation_raw_postprocessed/prostate_37.nii.gz, 61 files out of an estimated total of 106\nDownloading dataset/d134788d-094b-4cfa-b38b-c2eced07ba53/nnUNet/nnUNet/2d/Task005_Prostate/nnUNetTrainer__nnUNetPlansv2.1/all/validation_raw_postprocessed/prostate_38.nii.gz\nDownloaded dataset/d134788d-094b-4cfa-b38b-c2eced07ba53/nnUNet/nnUNet/2d/Task005_Prostate/nnUNetTrainer__nnUNetPlansv2.1/all/validation_raw_postprocessed/prostate_38.nii.gz, 62 files out of an estimated total of 106\nDownloading dataset/d134788d-094b-4cfa-b38b-c2eced07ba53/nnUNet/nnUNet/2d/Task005_Prostate/nnUNetTrainer__nnUNetPlansv2.1/all/validation_raw_postprocessed/prostate_39.nii.gz\nDownloaded dataset/d134788d-094b-4cfa-b38b-c2eced07ba53/nnUNet/nnUNet/2d/Task005_Prostate/nnUNetTrainer__nnUNetPlansv2.1/all/validation_raw_postprocessed/prostate_39.nii.gz, 63 files out of an estimated total of 106\nDownloading dataset/d134788d-094b-4cfa-b38b-c2eced07ba53/nnUNet/nnUNet/2d/Task005_Prostate/nnUNetTrainer__nnUNetPlansv2.1/all/validation_raw_postprocessed/prostate_40.nii.gz\nDownloaded dataset/d134788d-094b-4cfa-b38b-c2eced07ba53/nnUNet/nnUNet/2d/Task005_Prostate/nnUNetTrainer__nnUNetPlansv2.1/all/validation_raw_postprocessed/prostate_40.nii.gz, 64 files out of an estimated total of 106\nDownloading dataset/d134788d-094b-4cfa-b38b-c2eced07ba53/nnUNet/nnUNet/2d/Task005_Prostate/nnUNetTrainer__nnUNetPlansv2.1/all/validation_raw_postprocessed/prostate_41.nii.gz\nDownloaded dataset/d134788d-094b-4cfa-b38b-c2eced07ba53/nnUNet/nnUNet/2d/Task005_Prostate/nnUNetTrainer__nnUNetPlansv2.1/all/validation_raw_postprocessed/prostate_41.nii.gz, 65 files out of an estimated total of 106\nDownloading dataset/d134788d-094b-4cfa-b38b-c2eced07ba53/nnUNet/nnUNet/2d/Task005_Prostate/nnUNetTrainer__nnUNetPlansv2.1/all/validation_raw_postprocessed/prostate_42.nii.gz\nDownloaded dataset/d134788d-094b-4cfa-b38b-c2eced07ba53/nnUNet/nnUNet/2d/Task005_Prostate/nnUNetTrainer__nnUNetPlansv2.1/all/validation_raw_postprocessed/prostate_42.nii.gz, 66 files out of an estimated total of 106\nDownloading dataset/d134788d-094b-4cfa-b38b-c2eced07ba53/nnUNet/nnUNet/2d/Task005_Prostate/nnUNetTrainer__nnUNetPlansv2.1/all/validation_raw_postprocessed/prostate_43.nii.gz\nDownloaded dataset/d134788d-094b-4cfa-b38b-c2eced07ba53/nnUNet/nnUNet/2d/Task005_Prostate/nnUNetTrainer__nnUNetPlansv2.1/all/validation_raw_postprocessed/prostate_43.nii.gz, 67 files out of an estimated total of 106\nDownloading dataset/d134788d-094b-4cfa-b38b-c2eced07ba53/nnUNet/nnUNet/2d/Task005_Prostate/nnUNetTrainer__nnUNetPlansv2.1/all/validation_raw_postprocessed/prostate_44.nii.gz\nDownloaded dataset/d134788d-094b-4cfa-b38b-c2eced07ba53/nnUNet/nnUNet/2d/Task005_Prostate/nnUNetTrainer__nnUNetPlansv2.1/all/validation_raw_postprocessed/prostate_44.nii.gz, 68 files out of an estimated total of 106\nDownloading dataset/d134788d-094b-4cfa-b38b-c2eced07ba53/nnUNet/nnUNet/2d/Task005_Prostate/nnUNetTrainer__nnUNetPlansv2.1/all/validation_raw_postprocessed/prostate_46.nii.gz\nDownloaded dataset/d134788d-094b-4cfa-b38b-c2eced07ba53/nnUNet/nnUNet/2d/Task005_Prostate/nnUNetTrainer__nnUNetPlansv2.1/all/validation_raw_postprocessed/prostate_46.nii.gz, 69 files out of an estimated total of 106\nDownloading dataset/d134788d-094b-4cfa-b38b-c2eced07ba53/nnUNet/nnUNet/2d/Task005_Prostate/nnUNetTrainer__nnUNetPlansv2.1/all/validation_raw_postprocessed/prostate_47.nii.gz\nDownloaded dataset/d134788d-094b-4cfa-b38b-c2eced07ba53/nnUNet/nnUNet/2d/Task005_Prostate/nnUNetTrainer__nnUNetPlansv2.1/all/validation_raw_postprocessed/prostate_47.nii.gz, 70 files out of an estimated total of 106\nDownloading dataset/d134788d-094b-4cfa-b38b-c2eced07ba53/nnUNet/nnUNet/2d/Task005_Prostate/nnUNetTrainer__nnUNetPlansv2.1/all/validation_raw_postprocessed/summary.json\nDownloaded dataset/d134788d-094b-4cfa-b38b-c2eced07ba53/nnUNet/nnUNet/2d/Task005_Prostate/nnUNetTrainer__nnUNetPlansv2.1/all/validation_raw_postprocessed/summary.json, 71 files out of an estimated total of 106\nDownloading dataset/d134788d-094b-4cfa-b38b-c2eced07ba53/nnUNet/nnUNet/2d/Task005_Prostate/nnUNetTrainer__nnUNetPlansv2.1/gt_niftis/prostate_00.nii.gz\nDownloaded dataset/d134788d-094b-4cfa-b38b-c2eced07ba53/nnUNet/nnUNet/2d/Task005_Prostate/nnUNetTrainer__nnUNetPlansv2.1/gt_niftis/prostate_00.nii.gz, 72 files out of an estimated total of 106\nDownloading dataset/d134788d-094b-4cfa-b38b-c2eced07ba53/nnUNet/nnUNet/2d/Task005_Prostate/nnUNetTrainer__nnUNetPlansv2.1/gt_niftis/prostate_01.nii.gz\nDownloaded dataset/d134788d-094b-4cfa-b38b-c2eced07ba53/nnUNet/nnUNet/2d/Task005_Prostate/nnUNetTrainer__nnUNetPlansv2.1/gt_niftis/prostate_01.nii.gz, 73 files out of an estimated total of 106\nDownloading dataset/d134788d-094b-4cfa-b38b-c2eced07ba53/nnUNet/nnUNet/2d/Task005_Prostate/nnUNetTrainer__nnUNetPlansv2.1/gt_niftis/prostate_02.nii.gz\nDownloaded dataset/d134788d-094b-4cfa-b38b-c2eced07ba53/nnUNet/nnUNet/2d/Task005_Prostate/nnUNetTrainer__nnUNetPlansv2.1/gt_niftis/prostate_02.nii.gz, 74 files out of an estimated total of 106\nDownloading dataset/d134788d-094b-4cfa-b38b-c2eced07ba53/nnUNet/nnUNet/2d/Task005_Prostate/nnUNetTrainer__nnUNetPlansv2.1/gt_niftis/prostate_04.nii.gz\nDownloaded dataset/d134788d-094b-4cfa-b38b-c2eced07ba53/nnUNet/nnUNet/2d/Task005_Prostate/nnUNetTrainer__nnUNetPlansv2.1/gt_niftis/prostate_04.nii.gz, 75 files out of an estimated total of 106\nDownloading dataset/d134788d-094b-4cfa-b38b-c2eced07ba53/nnUNet/nnUNet/2d/Task005_Prostate/nnUNetTrainer__nnUNetPlansv2.1/gt_niftis/prostate_06.nii.gz\nDownloaded dataset/d134788d-094b-4cfa-b38b-c2eced07ba53/nnUNet/nnUNet/2d/Task005_Prostate/nnUNetTrainer__nnUNetPlansv2.1/gt_niftis/prostate_06.nii.gz, 76 files out of an estimated total of 106\nDownloading dataset/d134788d-094b-4cfa-b38b-c2eced07ba53/nnUNet/nnUNet/2d/Task005_Prostate/nnUNetTrainer__nnUNetPlansv2.1/gt_niftis/prostate_07.nii.gz\nDownloaded dataset/d134788d-094b-4cfa-b38b-c2eced07ba53/nnUNet/nnUNet/2d/Task005_Prostate/nnUNetTrainer__nnUNetPlansv2.1/gt_niftis/prostate_07.nii.gz, 77 files out of an estimated total of 106\nDownloading dataset/d134788d-094b-4cfa-b38b-c2eced07ba53/nnUNet/nnUNet/2d/Task005_Prostate/nnUNetTrainer__nnUNetPlansv2.1/gt_niftis/prostate_10.nii.gz\nDownloaded dataset/d134788d-094b-4cfa-b38b-c2eced07ba53/nnUNet/nnUNet/2d/Task005_Prostate/nnUNetTrainer__nnUNetPlansv2.1/gt_niftis/prostate_10.nii.gz, 78 files out of an estimated total of 106\nDownloading dataset/d134788d-094b-4cfa-b38b-c2eced07ba53/nnUNet/nnUNet/2d/Task005_Prostate/nnUNetTrainer__nnUNetPlansv2.1/gt_niftis/prostate_13.nii.gz\nDownloaded dataset/d134788d-094b-4cfa-b38b-c2eced07ba53/nnUNet/nnUNet/2d/Task005_Prostate/nnUNetTrainer__nnUNetPlansv2.1/gt_niftis/prostate_13.nii.gz, 79 files out of an estimated total of 106\nDownloading dataset/d134788d-094b-4cfa-b38b-c2eced07ba53/nnUNet/nnUNet/2d/Task005_Prostate/nnUNetTrainer__nnUNetPlansv2.1/gt_niftis/prostate_14.nii.gz\nDownloaded dataset/d134788d-094b-4cfa-b38b-c2eced07ba53/nnUNet/nnUNet/2d/Task005_Prostate/nnUNetTrainer__nnUNetPlansv2.1/gt_niftis/prostate_14.nii.gz, 80 files out of an estimated total of 106\nDownloading dataset/d134788d-094b-4cfa-b38b-c2eced07ba53/nnUNet/nnUNet/2d/Task005_Prostate/nnUNetTrainer__nnUNetPlansv2.1/gt_niftis/prostate_16.nii.gz\nDownloaded dataset/d134788d-094b-4cfa-b38b-c2eced07ba53/nnUNet/nnUNet/2d/Task005_Prostate/nnUNetTrainer__nnUNetPlansv2.1/gt_niftis/prostate_16.nii.gz, 81 files out of an estimated total of 106\nDownloading dataset/d134788d-094b-4cfa-b38b-c2eced07ba53/nnUNet/nnUNet/2d/Task005_Prostate/nnUNetTrainer__nnUNetPlansv2.1/gt_niftis/prostate_17.nii.gz\nDownloaded dataset/d134788d-094b-4cfa-b38b-c2eced07ba53/nnUNet/nnUNet/2d/Task005_Prostate/nnUNetTrainer__nnUNetPlansv2.1/gt_niftis/prostate_17.nii.gz, 82 files out of an estimated total of 106\nDownloading dataset/d134788d-094b-4cfa-b38b-c2eced07ba53/nnUNet/nnUNet/2d/Task005_Prostate/nnUNetTrainer__nnUNetPlansv2.1/gt_niftis/prostate_18.nii.gz\nDownloaded dataset/d134788d-094b-4cfa-b38b-c2eced07ba53/nnUNet/nnUNet/2d/Task005_Prostate/nnUNetTrainer__nnUNetPlansv2.1/gt_niftis/prostate_18.nii.gz, 83 files out of an estimated total of 106\nDownloading dataset/d134788d-094b-4cfa-b38b-c2eced07ba53/nnUNet/nnUNet/2d/Task005_Prostate/nnUNetTrainer__nnUNetPlansv2.1/gt_niftis/prostate_20.nii.gz\nDownloaded dataset/d134788d-094b-4cfa-b38b-c2eced07ba53/nnUNet/nnUNet/2d/Task005_Prostate/nnUNetTrainer__nnUNetPlansv2.1/gt_niftis/prostate_20.nii.gz, 84 files out of an estimated total of 106\nDownloading dataset/d134788d-094b-4cfa-b38b-c2eced07ba53/nnUNet/nnUNet/2d/Task005_Prostate/nnUNetTrainer__nnUNetPlansv2.1/gt_niftis/prostate_21.nii.gz\nDownloaded dataset/d134788d-094b-4cfa-b38b-c2eced07ba53/nnUNet/nnUNet/2d/Task005_Prostate/nnUNetTrainer__nnUNetPlansv2.1/gt_niftis/prostate_21.nii.gz, 85 files out of an estimated total of 106\nDownloading dataset/d134788d-094b-4cfa-b38b-c2eced07ba53/nnUNet/nnUNet/2d/Task005_Prostate/nnUNetTrainer__nnUNetPlansv2.1/gt_niftis/prostate_24.nii.gz\nDownloaded dataset/d134788d-094b-4cfa-b38b-c2eced07ba53/nnUNet/nnUNet/2d/Task005_Prostate/nnUNetTrainer__nnUNetPlansv2.1/gt_niftis/prostate_24.nii.gz, 86 files out of an estimated total of 106\nDownloading dataset/d134788d-094b-4cfa-b38b-c2eced07ba53/nnUNet/nnUNet/2d/Task005_Prostate/nnUNetTrainer__nnUNetPlansv2.1/gt_niftis/prostate_25.nii.gz\nDownloaded dataset/d134788d-094b-4cfa-b38b-c2eced07ba53/nnUNet/nnUNet/2d/Task005_Prostate/nnUNetTrainer__nnUNetPlansv2.1/gt_niftis/prostate_25.nii.gz, 87 files out of an estimated total of 106\nDownloading dataset/d134788d-094b-4cfa-b38b-c2eced07ba53/nnUNet/nnUNet/2d/Task005_Prostate/nnUNetTrainer__nnUNetPlansv2.1/gt_niftis/prostate_28.nii.gz\nDownloaded dataset/d134788d-094b-4cfa-b38b-c2eced07ba53/nnUNet/nnUNet/2d/Task005_Prostate/nnUNetTrainer__nnUNetPlansv2.1/gt_niftis/prostate_28.nii.gz, 88 files out of an estimated total of 106\nDownloading dataset/d134788d-094b-4cfa-b38b-c2eced07ba53/nnUNet/nnUNet/2d/Task005_Prostate/nnUNetTrainer__nnUNetPlansv2.1/gt_niftis/prostate_29.nii.gz\nDownloaded dataset/d134788d-094b-4cfa-b38b-c2eced07ba53/nnUNet/nnUNet/2d/Task005_Prostate/nnUNetTrainer__nnUNetPlansv2.1/gt_niftis/prostate_29.nii.gz, 89 files out of an estimated total of 106\nDownloading dataset/d134788d-094b-4cfa-b38b-c2eced07ba53/nnUNet/nnUNet/2d/Task005_Prostate/nnUNetTrainer__nnUNetPlansv2.1/gt_niftis/prostate_32.nii.gz\nDownloaded dataset/d134788d-094b-4cfa-b38b-c2eced07ba53/nnUNet/nnUNet/2d/Task005_Prostate/nnUNetTrainer__nnUNetPlansv2.1/gt_niftis/prostate_32.nii.gz, 90 files out of an estimated total of 106\nDownloading dataset/d134788d-094b-4cfa-b38b-c2eced07ba53/nnUNet/nnUNet/2d/Task005_Prostate/nnUNetTrainer__nnUNetPlansv2.1/gt_niftis/prostate_34.nii.gz\nDownloaded dataset/d134788d-094b-4cfa-b38b-c2eced07ba53/nnUNet/nnUNet/2d/Task005_Prostate/nnUNetTrainer__nnUNetPlansv2.1/gt_niftis/prostate_34.nii.gz, 91 files out of an estimated total of 106\nDownloading dataset/d134788d-094b-4cfa-b38b-c2eced07ba53/nnUNet/nnUNet/2d/Task005_Prostate/nnUNetTrainer__nnUNetPlansv2.1/gt_niftis/prostate_31.nii.gz\nDownloaded dataset/d134788d-094b-4cfa-b38b-c2eced07ba53/nnUNet/nnUNet/2d/Task005_Prostate/nnUNetTrainer__nnUNetPlansv2.1/gt_niftis/prostate_31.nii.gz, 92 files out of an estimated total of 106\nDownloading dataset/d134788d-094b-4cfa-b38b-c2eced07ba53/nnUNet/nnUNet/2d/Task005_Prostate/nnUNetTrainer__nnUNetPlansv2.1/gt_niftis/prostate_35.nii.gz\nDownloaded dataset/d134788d-094b-4cfa-b38b-c2eced07ba53/nnUNet/nnUNet/2d/Task005_Prostate/nnUNetTrainer__nnUNetPlansv2.1/gt_niftis/prostate_35.nii.gz, 93 files out of an estimated total of 106\nDownloading dataset/d134788d-094b-4cfa-b38b-c2eced07ba53/nnUNet/nnUNet/2d/Task005_Prostate/nnUNetTrainer__nnUNetPlansv2.1/gt_niftis/prostate_37.nii.gz\nDownloaded dataset/d134788d-094b-4cfa-b38b-c2eced07ba53/nnUNet/nnUNet/2d/Task005_Prostate/nnUNetTrainer__nnUNetPlansv2.1/gt_niftis/prostate_37.nii.gz, 94 files out of an estimated total of 106\nDownloading dataset/d134788d-094b-4cfa-b38b-c2eced07ba53/nnUNet/nnUNet/2d/Task005_Prostate/nnUNetTrainer__nnUNetPlansv2.1/gt_niftis/prostate_38.nii.gz\nDownloaded dataset/d134788d-094b-4cfa-b38b-c2eced07ba53/nnUNet/nnUNet/2d/Task005_Prostate/nnUNetTrainer__nnUNetPlansv2.1/gt_niftis/prostate_38.nii.gz, 95 files out of an estimated total of 106\nDownloading dataset/d134788d-094b-4cfa-b38b-c2eced07ba53/nnUNet/nnUNet/2d/Task005_Prostate/nnUNetTrainer__nnUNetPlansv2.1/gt_niftis/prostate_39.nii.gz\nDownloaded dataset/d134788d-094b-4cfa-b38b-c2eced07ba53/nnUNet/nnUNet/2d/Task005_Prostate/nnUNetTrainer__nnUNetPlansv2.1/gt_niftis/prostate_39.nii.gz, 96 files out of an estimated total of 106\nDownloading dataset/d134788d-094b-4cfa-b38b-c2eced07ba53/nnUNet/nnUNet/2d/Task005_Prostate/nnUNetTrainer__nnUNetPlansv2.1/gt_niftis/prostate_40.nii.gz\nDownloaded dataset/d134788d-094b-4cfa-b38b-c2eced07ba53/nnUNet/nnUNet/2d/Task005_Prostate/nnUNetTrainer__nnUNetPlansv2.1/gt_niftis/prostate_40.nii.gz, 97 files out of an estimated total of 106\nDownloading dataset/d134788d-094b-4cfa-b38b-c2eced07ba53/nnUNet/nnUNet/2d/Task005_Prostate/nnUNetTrainer__nnUNetPlansv2.1/gt_niftis/prostate_41.nii.gz\nDownloaded dataset/d134788d-094b-4cfa-b38b-c2eced07ba53/nnUNet/nnUNet/2d/Task005_Prostate/nnUNetTrainer__nnUNetPlansv2.1/gt_niftis/prostate_41.nii.gz, 98 files out of an estimated total of 106\nDownloading dataset/d134788d-094b-4cfa-b38b-c2eced07ba53/nnUNet/nnUNet/2d/Task005_Prostate/nnUNetTrainer__nnUNetPlansv2.1/gt_niftis/prostate_42.nii.gz\nDownloaded dataset/d134788d-094b-4cfa-b38b-c2eced07ba53/nnUNet/nnUNet/2d/Task005_Prostate/nnUNetTrainer__nnUNetPlansv2.1/gt_niftis/prostate_42.nii.gz, 99 files out of an estimated total of 106\nDownloading dataset/d134788d-094b-4cfa-b38b-c2eced07ba53/nnUNet/nnUNet/2d/Task005_Prostate/nnUNetTrainer__nnUNetPlansv2.1/gt_niftis/prostate_43.nii.gz\nDownloaded dataset/d134788d-094b-4cfa-b38b-c2eced07ba53/nnUNet/nnUNet/2d/Task005_Prostate/nnUNetTrainer__nnUNetPlansv2.1/gt_niftis/prostate_43.nii.gz, 100 files out of an estimated total of 106\nDownloading dataset/d134788d-094b-4cfa-b38b-c2eced07ba53/nnUNet/nnUNet/2d/Task005_Prostate/nnUNetTrainer__nnUNetPlansv2.1/gt_niftis/prostate_44.nii.gz\nDownloaded dataset/d134788d-094b-4cfa-b38b-c2eced07ba53/nnUNet/nnUNet/2d/Task005_Prostate/nnUNetTrainer__nnUNetPlansv2.1/gt_niftis/prostate_44.nii.gz, 101 files out of an estimated total of 106\nDownloading dataset/d134788d-094b-4cfa-b38b-c2eced07ba53/nnUNet/nnUNet/2d/Task005_Prostate/nnUNetTrainer__nnUNetPlansv2.1/gt_niftis/prostate_46.nii.gz\nDownloaded dataset/d134788d-094b-4cfa-b38b-c2eced07ba53/nnUNet/nnUNet/2d/Task005_Prostate/nnUNetTrainer__nnUNetPlansv2.1/gt_niftis/prostate_46.nii.gz, 102 files out of an estimated total of 106\nDownloading dataset/d134788d-094b-4cfa-b38b-c2eced07ba53/nnUNet/nnUNet/2d/Task005_Prostate/nnUNetTrainer__nnUNetPlansv2.1/gt_niftis/prostate_47.nii.gz\nDownloaded dataset/d134788d-094b-4cfa-b38b-c2eced07ba53/nnUNet/nnUNet/2d/Task005_Prostate/nnUNetTrainer__nnUNetPlansv2.1/gt_niftis/prostate_47.nii.gz, 103 files out of an estimated total of 106\nDownloading dataset/d134788d-094b-4cfa-b38b-c2eced07ba53/nnUNet/nnUNet/2d/Task005_Prostate/nnUNetTrainer__nnUNetPlansv2.1/plans.pkl\nDownloaded dataset/d134788d-094b-4cfa-b38b-c2eced07ba53/nnUNet/nnUNet/2d/Task005_Prostate/nnUNetTrainer__nnUNetPlansv2.1/plans.pkl, 104 files out of an estimated total of 106\nDownloading dataset/d134788d-094b-4cfa-b38b-c2eced07ba53/nnUNet/nnUNet/2d/Task005_Prostate/nnUNetTrainer__nnUNetPlansv2.1/all/model_final_checkpoint.model\nDownloaded dataset/d134788d-094b-4cfa-b38b-c2eced07ba53/nnUNet/nnUNet/2d/Task005_Prostate/nnUNetTrainer__nnUNetPlansv2.1/all/model_final_checkpoint.model, 105 files out of an estimated total of 106\nRegistering model nnunet-devops-test-2\n"
        }
      ],
      "execution_count": 41,
      "metadata": {
        "jupyter": {
          "source_hidden": false,
          "outputs_hidden": false
        },
        "nteract": {
          "transient": {
            "deleting": false
          }
        },
        "gather": {
          "logged": 1690446369649
        }
      }
    },
    {
      "cell_type": "code",
      "source": [
        "# you don't have to create environment if you createfd before with same docker\n",
        "env = Environment.from_docker_image(name=environment_name, image=environment_image)\n",
        "env.inferencing_stack_version='latest'\n"
      ],
      "outputs": [],
      "execution_count": 42,
      "metadata": {
        "jupyter": {
          "source_hidden": false,
          "outputs_hidden": false
        },
        "nteract": {
          "transient": {
            "deleting": false
          }
        },
        "gather": {
          "logged": 1690446370617
        }
      }
    },
    {
      "cell_type": "code",
      "source": [
        "#Define configs for the deployment\n",
        "inference_config = InferenceConfig(\n",
        "    entry_script=entry_script, environment=env, source_directory=source_directory\n",
        ")\n",
        "aci_config = AciWebservice.deploy_configuration(cpu_cores = cpu_cores, memory_gb = memory_gb,location=location)\n",
        "\n",
        "#Deloy the service\n",
        "service = Model.deploy(\n",
        "        workspace=workspace,\n",
        "        name=service_name,\n",
        "        models=[registered_model],\n",
        "        inference_config=inference_config,\n",
        "        deployment_config=aci_config,\n",
        "        overwrite=True\n",
        "    )\n",
        "service.wait_for_deployment(show_output=True)"
      ],
      "outputs": [
        {
          "output_type": "stream",
          "name": "stderr",
          "text": "/tmp/ipykernel_9856/3269267396.py:8: FutureWarning: azureml.core.model:\nTo leverage new model deployment capabilities, AzureML recommends using CLI/SDK v2 to deploy models as online endpoint, \nplease refer to respective documentations \nhttps://docs.microsoft.com/azure/machine-learning/how-to-deploy-managed-online-endpoints /\nhttps://docs.microsoft.com/azure/machine-learning/how-to-attach-kubernetes-anywhere \nFor more information on migration, see https://aka.ms/acimoemigration. \nTo disable CLI/SDK v1 deprecation warning set AZUREML_LOG_DEPRECATION_WARNING_ENABLED to 'False'\n  service = Model.deploy(\n"
        }
      ],
      "execution_count": 43,
      "metadata": {
        "jupyter": {
          "source_hidden": false,
          "outputs_hidden": false
        },
        "nteract": {
          "transient": {
            "deleting": false
          }
        },
        "gather": {
          "logged": 1690446480032
        }
      }
    },
    {
      "cell_type": "markdown",
      "source": [
        "service.wait_for_deployment(show_output=True)\n"
      ],
      "metadata": {
        "nteract": {
          "transient": {
            "deleting": false
          }
        }
      }
    },
    {
      "cell_type": "code",
      "source": [
        "service.wait_for_deployment(show_output=True)"
      ],
      "outputs": [
        {
          "output_type": "stream",
          "name": "stdout",
          "text": "Tips: You can try get_logs(): https://aka.ms/debugimage#dockerlog or local deployment: https://aka.ms/debugimage#debug-locally to debug if deployment takes longer than 10 minutes.\nRunning\n2023-07-27 08:27:59+00:00 Creating Container Registry if not exists.\n2023-07-27 08:27:59+00:00 Registering the environment.\n2023-07-27 08:28:00+00:00 Building image."
        }
      ],
      "execution_count": 47,
      "metadata": {
        "jupyter": {
          "source_hidden": false,
          "outputs_hidden": false
        },
        "nteract": {
          "transient": {
            "deleting": false
          }
        },
        "gather": {
          "logged": 1690446866779
        }
      }
    }
  ],
  "metadata": {
    "kernelspec": {
      "name": "python310-sdkv2",
      "language": "python",
      "display_name": "Python 3.10 - SDK v2"
    },
    "language_info": {
      "name": "python",
      "version": "3.10.9",
      "mimetype": "text/x-python",
      "codemirror_mode": {
        "name": "ipython",
        "version": 3
      },
      "pygments_lexer": "ipython3",
      "nbconvert_exporter": "python",
      "file_extension": ".py"
    },
    "microsoft": {
      "ms_spell_check": {
        "ms_spell_check_language": "en"
      },
      "host": {
        "AzureML": {
          "notebookHasBeenCompleted": true
        }
      }
    },
    "kernel_info": {
      "name": "python310-sdkv2"
    },
    "nteract": {
      "version": "nteract-front-end@1.0.0"
    }
  },
  "nbformat": 4,
  "nbformat_minor": 2
}