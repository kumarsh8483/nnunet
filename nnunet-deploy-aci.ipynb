{
  "cells": [
    {
      "cell_type": "code",
      "execution_count": null,
      "metadata": {},
      "outputs": [],
      "source": [
        "# import required libraries\n",
        "import os\n",
        "import datetime\n",
        "from azure.ai.ml import MLClient\n",
        "from azure.ai.ml.entities import (\n",
        "    ProbeSettings,\n",
        "    Environment,\n",
        "    Model,\n",
        ")\n",
        "from azure.ai.ml.constants import AssetTypes\n",
        "\n",
        "from azureml.core import (\n",
        "    Experiment,\n",
        "    Workspace,\n",
        "    Run\n",
        ")\n",
        "\n",
        "from azureml.core import (\n",
        "    Workspace,\n",
        "    Environment,\n",
        "    RunConfiguration,\n",
        "    ScriptRunConfig,\n",
        ")\n",
        "from azureml.core.model import InferenceConfig, Model\n",
        "from azureml.core.webservice import AciWebservice\n",
        "\n",
        "from azure.identity import DefaultAzureCredential\n"
      ]
    },
    {
      "cell_type": "code",
      "execution_count": null,
      "metadata": {
        "jupyter": {
          "outputs_hidden": false,
          "source_hidden": false
        },
        "nteract": {
          "transient": {
            "deleting": false
          }
        }
      },
      "outputs": [],
      "source": [
        "# required definitons\n",
        "environment_name = 'my-env'\n",
        "model_name = 'nnunet-devops-test-2'\n",
        "#Define the size and location of our deployed compute\n",
        "cpu_cores = 2\n",
        "memory_gb = 8\n",
        "location = 'eastus'\n",
        "service_name = 'my-service'\n",
        "\n",
        "# required information\n",
        "experiment_name = 'nnunet-devops-test-2'\n",
        "entry_scipt = 'src/score.py'\n",
        "source_directory = '.'\n",
        "run_id = \"d134788d-094b-4cfa-b38b-c2eced07ba53\" #\"d6c83f1e-97a7-48a1-b4db-a308de7bd9e2\" # gets the latest if empty"
      ]
    },
    {
      "cell_type": "code",
      "execution_count": null,
      "metadata": {
        "jupyter": {
          "outputs_hidden": false,
          "source_hidden": false
        },
        "nteract": {
          "transient": {
            "deleting": false
          }
        }
      },
      "outputs": [],
      "source": [
        "workspace = Workspace.from_config()\n",
        "credential = DefaultAzureCredential()\n",
        "ml_client = MLClient.from_config(credential)\n",
        "\n",
        "# get experiment\n",
        "experiment = Experiment(workspace, experiment_name)\n",
        "# get experiment's latest run id\n",
        "if run_id:\n",
        "    latest_run = Run(experiment, run_id) \n",
        "else:\n",
        "    latest_run = next(experiment.get_runs())\n",
        "    \n",
        "print(latest_run)\n",
        "print(type(latest_run))\n",
        "\n",
        "model_path = f\"azureml://subscriptions/{workspace.subscription_id}/resourcegroups/{workspace.resource_group}/workspaces/{workspace.name}/datastores/{workspace.get_default_datastore().name}/paths/dataset/{latest_run.id}/nnUNet/\"\n",
        "\n",
        "# model registration procedure\n",
        "model = Model(path=model_path,\n",
        "                name=model_name,\n",
        "                type=AssetTypes.CUSTOM_MODEL)\n",
        "registered_model = ml_client.models.create_or_update(model)\n"
      ]
    },
    {
      "cell_type": "code",
      "execution_count": null,
      "metadata": {
        "jupyter": {
          "outputs_hidden": false,
          "source_hidden": false
        },
        "nteract": {
          "transient": {
            "deleting": false
          }
        }
      },
      "outputs": [],
      "source": [
        "#Define configs for the deployment\n",
        "inference_config = InferenceConfig(\n",
        "    entry_script=entry_script, environment=env, source_directory=source_directory\n",
        ")\n",
        "aci_config = AciWebservice.deploy_configuration(cpu_cores = cpu_cores, memory_gb = memory_gb,location=location)\n",
        "\n",
        "#Deloy the service\n",
        "service = Model.deploy(\n",
        "        workspace=ws,\n",
        "        name=service_name,\n",
        "        models=[model],\n",
        "        inference_config=inference_config,\n",
        "        deployment_config=aci_config,\n",
        "        overwrite=True\n",
        "    )\n",
        "\n",
        "service.wait_for_deployment(show_output=True)\n"
      ]
    },
    {
      "cell_type": "code",
      "execution_count": null,
      "metadata": {
        "jupyter": {
          "outputs_hidden": false,
          "source_hidden": false
        },
        "nteract": {
          "transient": {
            "deleting": false
          }
        }
      },
      "outputs": [],
      "source": []
    },
    {
      "cell_type": "code",
      "execution_count": null,
      "metadata": {
        "jupyter": {
          "outputs_hidden": false,
          "source_hidden": false
        },
        "nteract": {
          "transient": {
            "deleting": false
          }
        }
      },
      "outputs": [],
      "source": []
    }
  ],
  "metadata": {
    "kernel_info": {
      "name": "python310-sdkv2"
    },
    "kernelspec": {
      "display_name": "Python 3.10 - SDK v2",
      "language": "python",
      "name": "python310-sdkv2"
    },
    "language_info": {
      "codemirror_mode": {
        "name": "ipython",
        "version": 3
      },
      "file_extension": ".py",
      "mimetype": "text/x-python",
      "name": "python",
      "nbconvert_exporter": "python",
      "pygments_lexer": "ipython3",
      "version": "3.10.9"
    },
    "microsoft": {
      "ms_spell_check": {
        "ms_spell_check_language": "en"
      }
    },
    "nteract": {
      "version": "nteract-front-end@1.0.0"
    }
  },
  "nbformat": 4,
  "nbformat_minor": 2
}
