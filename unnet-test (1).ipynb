{
  "cells": [
    {
      "cell_type": "code",
      "source": [
        "import os\n",
        "import azureml.core\n",
        "from azureml.core import (\n",
        "    Workspace,\n",
        "    Experiment,\n",
        "    Dataset,\n",
        "    Datastore,\n",
        "    ComputeTarget,\n",
        "    Environment,\n",
        "    ScriptRunConfig,\n",
        ")\n",
        "from azureml.data import OutputFileDatasetConfig\n",
        "from azureml.core.compute import AmlCompute\n",
        "from azureml.core.compute_target import ComputeTargetException\n",
        "from azureml.pipeline.steps import PythonScriptStep\n",
        "from azureml.pipeline.core import Pipeline\n",
        "from azureml.core.runconfig import DockerConfiguration\n",
        "\n",
        "# check core SDK version number\n",
        "print(\"Azure ML SDK Version: \", azureml.core.VERSION)"
      ],
      "outputs": [
        {
          "output_type": "stream",
          "name": "stdout",
          "text": "Azure ML SDK Version:  1.49.0\n"
        }
      ],
      "execution_count": 2,
      "metadata": {
        "gather": {
          "logged": 1684776167374
        },
        "jupyter": {
          "outputs_hidden": false,
          "source_hidden": false
        },
        "nteract": {
          "transient": {
            "deleting": false
          }
        }
      }
    },
    {
      "cell_type": "code",
      "source": [
        "workspace = Workspace.from_config()"
      ],
      "outputs": [],
      "execution_count": 3,
      "metadata": {
        "gather": {
          "logged": 1684776171860
        },
        "jupyter": {
          "outputs_hidden": false,
          "source_hidden": false
        },
        "nteract": {
          "transient": {
            "deleting": false
          }
        }
      }
    },
    {
      "cell_type": "code",
      "source": [
        "exp = Experiment(workspace=workspace, name=\"nnunet-devops-test\")"
      ],
      "outputs": [],
      "execution_count": 4,
      "metadata": {
        "gather": {
          "logged": 1684776173310
        },
        "jupyter": {
          "outputs_hidden": false,
          "source_hidden": false
        },
        "nteract": {
          "transient": {
            "deleting": false
          }
        }
      }
    },
    {
      "cell_type": "code",
      "source": [
        "output = OutputFileDatasetConfig(name=\"nnUNet\", destination=None, source=\"/output/\") # source directory should be same with RESULTS_DIR in docker"
      ],
      "outputs": [],
      "execution_count": 5,
      "metadata": {
        "gather": {
          "logged": 1684776174570
        },
        "jupyter": {
          "outputs_hidden": false,
          "source_hidden": false
        },
        "nteract": {
          "transient": {
            "deleting": false
          }
        }
      }
    },
    {
      "cell_type": "code",
      "source": [
        "#Create an Azure ML Compute:\n",
        "from azureml.core.compute import AmlCompute\n",
        "\n",
        "compute_name = \"ml-notebook-tst\"\n",
        "\n",
        "if compute_name in workspace.compute_targets:\n",
        "    compute_target = workspace.compute_targets[compute_name]\n",
        "    print(f'Found existing compute target {compute_name}')\n",
        "else:\n",
        "    provisioning_config = AmlCompute.provisioning_configuration(vm_size='Standard_NC24',\n",
        "                                                                min_nodes=0,\n",
        "                                                                max_nodes=1)\n",
        "    compute_target = ComputeTarget.create(workspace, compute_name, provisioning_config)\n",
        "    compute_target.wait_for_completion(show_output=True)\n",
        "    print(f'Compute_target {compute_name} created')"
      ],
      "outputs": [
        {
          "output_type": "stream",
          "name": "stdout",
          "text": "Found existing compute target ml-notebook-tst\n"
        }
      ],
      "execution_count": 6,
      "metadata": {
        "gather": {
          "logged": 1684776178028
        },
        "jupyter": {
          "outputs_hidden": false,
          "source_hidden": false
        },
        "nteract": {
          "transient": {
            "deleting": false
          }
        }
      }
    },
    {
      "cell_type": "code",
      "source": [
        "# figure out how to mount script folder\n",
        "script_folder = \"/home/azureuser/cloudfiles/code/Users/DSKumar-mda/nnunet/\"\n",
        "\n",
        "prep_step = PythonScriptStep(\n",
        "    name=\"prepare step\",\n",
        "    script_name=\"prepare.py\",\n",
        "    arguments=[], # no arguments for now\n",
        "    source_directory=script_folder,\n",
        "    compute_target=compute_target,\n",
        "    allow_reuse=True,\n",
        ")"
      ],
      "outputs": [],
      "execution_count": 7,
      "metadata": {
        "gather": {
          "logged": 1684776180605
        },
        "jupyter": {
          "outputs_hidden": false,
          "source_hidden": false
        },
        "nteract": {
          "transient": {
            "deleting": false
          }
        }
      }
    },
    {
      "cell_type": "code",
      "source": [
        "print(compute_target)"
      ],
      "outputs": [
        {
          "output_type": "stream",
          "name": "stdout",
          "text": "AmlCompute(workspace=Workspace.create(name='edp-mlw-mlmm-tst-scentral-01', subscription_id='dc3b2a9f-9106-4946-9d81-3f115060b468', resource_group='databricks-workspace-rg1'), name=ml-notebook-tst, id=/subscriptions/dc3b2a9f-9106-4946-9d81-3f115060b468/resourceGroups/databricks-workspace-rg1/providers/Microsoft.MachineLearningServices/workspaces/edp-mlw-mlmm-tst-scentral-01/computes/ml-notebook-tst, type=AmlCompute, provisioning_state=Succeeded, location=southcentralus, tags={})\n"
        }
      ],
      "execution_count": 8,
      "metadata": {
        "gather": {
          "logged": 1684776185080
        },
        "jupyter": {
          "outputs_hidden": false,
          "source_hidden": false
        },
        "nteract": {
          "transient": {
            "deleting": false
          }
        }
      }
    },
    {
      "cell_type": "code",
      "source": [
        "docker_env = Environment(\"nnunet-docker\")\n",
        "docker_env.docker.base_image = \"edpcrmlmmtst01.azurecr.io/nnunet:latest\" # example : \"fastdotai/fastai2:latest\"\n",
        "docker_env.python.user_managed_dependencies = True\n",
        "docker_config=DockerConfiguration(use_docker=True,shm_size='32g')\n",
        "\n",
        "train_cfg = ScriptRunConfig(\n",
        "    source_directory=script_folder,\n",
        "    script=\"trainv1.py\",\n",
        "    arguments=[output],\n",
        "    compute_target=compute_target,\n",
        "    environment=docker_env,\n",
        "    docker_runtime_config=docker_config,\n",
        ")\n",
        "\n",
        "# create the training step :\n",
        "train_step = PythonScriptStep(\n",
        "    name=\"training step\",\n",
        "    arguments=[],# no asrguments for now, since azure datastore wont work well with colab\n",
        "    source_directory=train_cfg.source_directory,\n",
        "    script_name=train_cfg.script,\n",
        "    runconfig=train_cfg.run_config,\n",
        ")"
      ],
      "outputs": [],
      "execution_count": 10,
      "metadata": {
        "gather": {
          "logged": 1684776231447
        },
        "jupyter": {
          "outputs_hidden": false,
          "source_hidden": false
        },
        "nteract": {
          "transient": {
            "deleting": false
          }
        }
      }
    },
    {
      "cell_type": "markdown",
      "source": [],
      "metadata": {
        "nteract": {
          "transient": {
            "deleting": false
          }
        }
      }
    },
    {
      "cell_type": "code",
      "source": [
        "pipeline = Pipeline(workspace, steps=[prep_step,train_step])\n",
        "run = exp.submit(pipeline)"
      ],
      "outputs": [
        {
          "output_type": "stream",
          "name": "stdout",
          "text": "Created step prepare step [84debca1][b97e1538-fb2b-4399-b07f-66d03bad93d9], (This step will run and generate new outputs)\nCreated step training step [a616cabd][1f1a4706-fc94-46ca-af52-e623f8d32b68], (This step will run and generate new outputs)\nSubmitted PipelineRun e55a6a4d-fb6a-4142-8c13-fdb0029fd715\nLink to Azure Machine Learning Portal: https://ml.azure.com/runs/e55a6a4d-fb6a-4142-8c13-fdb0029fd715?wsid=/subscriptions/dc3b2a9f-9106-4946-9d81-3f115060b468/resourcegroups/databricks-workspace-rg1/workspaces/edp-mlw-mlmm-tst-scentral-01&tid=63f2cd41-dedb-4cd2-9130-425526cac16d\n"
        }
      ],
      "execution_count": 11,
      "metadata": {
        "gather": {
          "logged": 1684776239727
        },
        "jupyter": {
          "outputs_hidden": false,
          "source_hidden": false
        },
        "nteract": {
          "transient": {
            "deleting": false
          }
        }
      }
    }
  ],
  "metadata": {
    "kernel_info": {
      "name": "python38-azureml"
    },
    "kernelspec": {
      "name": "python38-azureml",
      "language": "python",
      "display_name": "Python 3.8 - AzureML"
    },
    "language_info": {
      "name": "python",
      "version": "3.8.10",
      "mimetype": "text/x-python",
      "codemirror_mode": {
        "name": "ipython",
        "version": 3
      },
      "pygments_lexer": "ipython3",
      "nbconvert_exporter": "python",
      "file_extension": ".py"
    },
    "microsoft": {
      "host": {
        "AzureML": {
          "notebookHasBeenCompleted": true
        }
      },
      "ms_spell_check": {
        "ms_spell_check_language": "en"
      }
    },
    "nteract": {
      "version": "nteract-front-end@1.0.0"
    }
  },
  "nbformat": 4,
  "nbformat_minor": 2
}