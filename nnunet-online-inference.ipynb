{
  "cells": [
    {
      "cell_type": "markdown",
      "source": [
        "**Notes : **\n",
        "\n",
        "1 - custom prediction python script should be provided (scoring.py)\n",
        "\n",
        "2 - will check if artefacts can be installed to notebook"
      ],
      "metadata": {
        "nteract": {
          "transient": {
            "deleting": false
          }
        }
      }
    },
    {
      "cell_type": "code",
      "source": [
        "# import required libraries\n",
        "import os\n",
        "import datetime\n",
        "from azure.ai.ml import MLClient\n",
        "from azure.ai.ml.entities import (\n",
        "    ManagedOnlineEndpoint,\n",
        "    ManagedOnlineDeployment,\n",
        "    CodeConfiguration,\n",
        "    ProbeSettings,\n",
        "    Environment,\n",
        "    Model,\n",
        ")\n",
        "from azure.ai.ml.constants import AssetTypes\n",
        "\n",
        "from azureml.core import (\n",
        "    Experiment,\n",
        "    Workspace,\n",
        "    Run\n",
        ")\n",
        "\n",
        "from azure.identity import DefaultAzureCredential"
      ],
      "outputs": [],
      "execution_count": 180,
      "metadata": {
        "jupyter": {
          "source_hidden": false,
          "outputs_hidden": false
        },
        "nteract": {
          "transient": {
            "deleting": false
          }
        },
        "gather": {
          "logged": 1684237620720
        }
      }
    },
    {
      "cell_type": "code",
      "source": [
        "name = \"nnunet-devops-test\"\n",
        "latest_run_id = \"d6c83f1e-97a7-48a1-b4db-a308de7bd9e2\" # gets the latest if empty"
      ],
      "outputs": [],
      "execution_count": 181,
      "metadata": {
        "jupyter": {
          "source_hidden": false,
          "outputs_hidden": false
        },
        "nteract": {
          "transient": {
            "deleting": false
          }
        },
        "gather": {
          "logged": 1684237622538
        }
      }
    },
    {
      "cell_type": "code",
      "source": [
        "workspace = Workspace.from_config()\n",
        "credential = DefaultAzureCredential()\n",
        "ml_client = MLClient.from_config(credential)"
      ],
      "outputs": [
        {
          "output_type": "stream",
          "name": "stderr",
          "text": "Found the config file in: /config.json\n"
        }
      ],
      "execution_count": 182,
      "metadata": {
        "jupyter": {
          "source_hidden": false,
          "outputs_hidden": false
        },
        "nteract": {
          "transient": {
            "deleting": false
          }
        },
        "gather": {
          "logged": 1684237623420
        }
      }
    },
    {
      "cell_type": "code",
      "source": [
        "# get experiment\n",
        "experiment = Experiment(workspace, name)\n",
        "# get experiment's latest run id\n",
        "if latest_run_id:\n",
        "    latest_run = Run(experiment, latest_run_id) \n",
        "else:\n",
        "    latest_run = next(experiment.get_runs())\n",
        "print(type(latest_run))\n",
        "\n",
        "# type of latest_run same in both cases"
      ],
      "outputs": [
        {
          "output_type": "stream",
          "name": "stdout",
          "text": "<class 'azureml.core.run.Run'>\n"
        }
      ],
      "execution_count": 183,
      "metadata": {
        "jupyter": {
          "source_hidden": false,
          "outputs_hidden": false
        },
        "nteract": {
          "transient": {
            "deleting": false
          }
        },
        "gather": {
          "logged": 1684237625762
        }
      }
    },
    {
      "cell_type": "code",
      "source": [
        "model_path = f\"azureml://subscriptions/{workspace.subscription_id}/resourcegroups/{workspace.resource_group}/workspaces/{workspace.name}/datastores/{workspace.get_default_datastore().name}/paths/dataset/{latest_run.id}/nnunet_outputs/\""
      ],
      "outputs": [],
      "execution_count": 184,
      "metadata": {
        "jupyter": {
          "source_hidden": false,
          "outputs_hidden": false
        },
        "nteract": {
          "transient": {
            "deleting": false
          }
        },
        "gather": {
          "logged": 1684237628834
        }
      }
    },
    {
      "cell_type": "code",
      "source": [
        "# model registration procedure\n",
        "model = Model(path=model_path,\n",
        "                name=\"iamnewtestmodel\",\n",
        "                description=\"description-here\",\n",
        "                type=AssetTypes.CUSTOM_MODEL)\n",
        "registered_model = ml_client.models.create_or_update(model)"
      ],
      "outputs": [],
      "execution_count": 186,
      "metadata": {
        "jupyter": {
          "source_hidden": false,
          "outputs_hidden": false
        },
        "nteract": {
          "transient": {
            "deleting": false
          }
        },
        "gather": {
          "logged": 1684237632033
        }
      }
    },
    {
      "cell_type": "code",
      "source": [
        "# Creating a unique endpoint name with current datetime to avoid conflicts\n",
        "online_endpoint_name = \"nnunet-model-\" + datetime.datetime.now().strftime(\n",
        "    \"%m%d%H%M%f\"\n",
        ")\n",
        "\n",
        "# create an online endpoint\n",
        "endpoint = ManagedOnlineEndpoint(\n",
        "    name=online_endpoint_name,\n",
        "    description=\"sample online endpoint for deploying model\",\n",
        "    auth_mode=\"key\",\n",
        "    tags={\"foo\": \"bar\"},\n",
        ")\n",
        "print(online_endpoint_name)"
      ],
      "outputs": [
        {
          "output_type": "stream",
          "name": "stdout",
          "text": "nnunet-model-04131722901364\n"
        }
      ],
      "execution_count": 71,
      "metadata": {
        "jupyter": {
          "source_hidden": false,
          "outputs_hidden": false
        },
        "nteract": {
          "transient": {
            "deleting": false
          }
        },
        "gather": {
          "logged": 1681406560620
        }
      }
    },
    {
      "cell_type": "code",
      "source": [
        "ml_client.begin_create_or_update(endpoint).result()"
      ],
      "outputs": [
        {
          "output_type": "execute_result",
          "execution_count": 72,
          "data": {
            "text/plain": "ManagedOnlineEndpoint({'public_network_access': 'Enabled', 'provisioning_state': 'Succeeded', 'scoring_uri': 'https://nnunet-model-04131722901364.eastus2.inference.ml.azure.com/score', 'openapi_uri': 'https://nnunet-model-04131722901364.eastus2.inference.ml.azure.com/swagger.json', 'name': 'nnunet-model-04131722901364', 'description': 'sample online endpoint for deploying model', 'tags': {'foo': 'bar'}, 'properties': {'azureml.onlineendpointid': '/subscriptions/e5fb5c5f-cb5c-42c8-86b6-cf4fd5aac11b/resourcegroups/azureml-test/providers/microsoft.machinelearningservices/workspaces/nnunet/onlineendpoints/nnunet-model-04131722901364', 'AzureAsyncOperationUri': 'https://management.azure.com/subscriptions/e5fb5c5f-cb5c-42c8-86b6-cf4fd5aac11b/providers/Microsoft.MachineLearningServices/locations/eastus2/mfeOperationsStatus/oe:438978f1-ead1-47c3-ad8e-c77be361c727:baa0e92e-e9c4-4977-8d51-b0d71e27a039?api-version=2022-02-01-preview'}, 'id': '/subscriptions/e5fb5c5f-cb5c-42c8-86b6-cf4fd5aac11b/resourceGroups/azureml-test/providers/Microsoft.MachineLearningServices/workspaces/nnunet/onlineEndpoints/nnunet-model-04131722901364', 'Resource__source_path': None, 'base_path': '/mnt/batch/tasks/shared/LS_root/mounts/clusters/avaj18701/code/Users/avaj1870', 'creation_context': None, 'serialize': <msrest.serialization.Serializer object at 0x7f8d10c7b7f0>, 'auth_mode': 'key', 'location': 'eastus2', 'identity': <azure.ai.ml.entities._credentials.IdentityConfiguration object at 0x7f8d10c79e70>, 'traffic': {}, 'mirror_traffic': {}, 'kind': 'Managed'})"
          },
          "metadata": {}
        }
      ],
      "execution_count": 72,
      "metadata": {
        "jupyter": {
          "source_hidden": false,
          "outputs_hidden": false
        },
        "nteract": {
          "transient": {
            "deleting": false
          }
        },
        "gather": {
          "logged": 1681406658125
        }
      }
    },
    {
      "cell_type": "code",
      "source": [
        "#docker_env.docker.base_image = \"nnunet.azurecr.io/training_env\" # example : \"fastdotai/fastai2:latest\"\n",
        "#docker_env.python.user_managed_dependencies = True\n",
        "\n",
        "deployment = ManagedOnlineDeployment(\n",
        "    name=name,\n",
        "    environment=Environment(image=\"nnunet.azurecr.io/prediction_env\"),\n",
        "    endpoint_name=online_endpoint_name,\n",
        "    model=registered_model.id,\n",
        "    instance_type=\"Standard_DS1_v2\", #\"Standard_DS2_v2\",\n",
        "    code_configuration=CodeConfiguration(code=\"\", scoring_script=\"src/score.py\"),\n",
        "    instance_count=1,\n",
        "    liveness_probe=ProbeSettings(\n",
        "        failure_threshold=30,\n",
        "        success_threshold=1,\n",
        "        timeout=2,\n",
        "        period=10,\n",
        "        initial_delay=2000,\n",
        "    ),\n",
        "    readiness_probe=ProbeSettings(\n",
        "        failure_threshold=10,\n",
        "        success_threshold=1,\n",
        "        timeout=10,\n",
        "        period=10,\n",
        "        initial_delay=2000,\n",
        "    ),\n",
        ")"
      ],
      "outputs": [],
      "execution_count": 73,
      "metadata": {
        "jupyter": {
          "source_hidden": false,
          "outputs_hidden": false
        },
        "nteract": {
          "transient": {
            "deleting": false
          }
        },
        "gather": {
          "logged": 1681406658299
        }
      }
    },
    {
      "cell_type": "code",
      "source": [
        "print(\"1\")"
      ],
      "outputs": [
        {
          "output_type": "stream",
          "name": "stdout",
          "text": "1\n"
        }
      ],
      "execution_count": 54,
      "metadata": {
        "jupyter": {
          "source_hidden": false,
          "outputs_hidden": false
        },
        "nteract": {
          "transient": {
            "deleting": false
          }
        },
        "gather": {
          "logged": 1681400136248
        }
      }
    },
    {
      "cell_type": "code",
      "source": [
        "ml_client.online_deployments.begin_create_or_update(deployment).result()\n"
      ],
      "outputs": [
        {
          "output_type": "stream",
          "name": "stderr",
          "text": "Check: endpoint nnunet-model-04131722901364 exists\nYour file exceeds 100 MB. If you experience low upload speeds or latency, we recommend using the AzCopy tool for this file transfer. See https://docs.microsoft.com/azure/storage/common/storage-use-azcopy-v10 for more information.\nUploading avaj1870 (239.95 MBs): 100%|██████████| 239953828/239953828 [00:10<00:00, 22944085.93it/s]\n\n\ndata_collector is not a known attribute of class <class 'azure.ai.ml._restclient.v2022_02_01_preview.models._models_py3.ManagedOnlineDeployment'> and will be ignored\n"
        },
        {
          "output_type": "stream",
          "name": "stdout",
          "text": "."
        }
      ],
      "execution_count": 74,
      "metadata": {
        "jupyter": {
          "source_hidden": false,
          "outputs_hidden": false
        },
        "nteract": {
          "transient": {
            "deleting": false
          }
        },
        "gather": {
          "logged": 1681402340376
        }
      }
    },
    {
      "cell_type": "code",
      "source": [
        "# update deployment to take 100% traffic\n",
        "endpoint.traffic = {name: 0}\n",
        "ml_client.begin_create_or_update(endpoint).result()"
      ],
      "outputs": [],
      "execution_count": null,
      "metadata": {
        "jupyter": {
          "source_hidden": false,
          "outputs_hidden": false
        },
        "nteract": {
          "transient": {
            "deleting": false
          }
        },
        "gather": {
          "logged": 1681395088218
        }
      }
    },
    {
      "cell_type": "code",
      "source": [],
      "outputs": [],
      "execution_count": null,
      "metadata": {
        "jupyter": {
          "source_hidden": false,
          "outputs_hidden": false
        },
        "nteract": {
          "transient": {
            "deleting": false
          }
        }
      }
    }
  ],
  "metadata": {
    "kernelspec": {
      "name": "python310-sdkv2",
      "language": "python",
      "display_name": "Python 3.10 - SDK v2"
    },
    "language_info": {
      "name": "python",
      "version": "3.10.9",
      "mimetype": "text/x-python",
      "codemirror_mode": {
        "name": "ipython",
        "version": 3
      },
      "pygments_lexer": "ipython3",
      "nbconvert_exporter": "python",
      "file_extension": ".py"
    },
    "microsoft": {
      "ms_spell_check": {
        "ms_spell_check_language": "en"
      },
      "host": {
        "AzureML": {
          "notebookHasBeenCompleted": true
        }
      }
    },
    "kernel_info": {
      "name": "python310-sdkv2"
    },
    "nteract": {
      "version": "nteract-front-end@1.0.0"
    }
  },
  "nbformat": 4,
  "nbformat_minor": 2
}