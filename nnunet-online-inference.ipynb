{
  "cells": [
    {
      "cell_type": "markdown",
      "metadata": {
        "nteract": {
          "transient": {
            "deleting": false
          }
        }
      },
      "source": [
        "**Notes : **\n",
        "\n",
        "1 - custom prediction python script should be provided (scoring.py)\n",
        "\n",
        "2 - will check if artefacts can be installed to notebook"
      ]
    },
    {
      "cell_type": "code",
      "execution_count": null,
      "metadata": {
        "jupyter": {
          "outputs_hidden": false,
          "source_hidden": false
        },
        "nteract": {
          "transient": {
            "deleting": false
          }
        }
      },
      "outputs": [],
      "source": [
        "# import required libraries\n",
        "import os\n",
        "import datetime\n",
        "from azure.ai.ml import MLClient\n",
        "from azure.ai.ml.entities import (\n",
        "    ManagedOnlineEndpoint,\n",
        "    ManagedOnlineDeployment,\n",
        "    Environment,\n",
        "    CodeConfiguration,\n",
        "    ProbeSettings,\n",
        ")\n",
        "from azureml.core import (\n",
        "    Experiment,\n",
        "    Workspace,\n",
        "    Run,\n",
        "    Model,\n",
        ")\n",
        "from azure.identity import DefaultAzureCredential"
      ]
    },
    {
      "cell_type": "code",
      "execution_count": null,
      "metadata": {
        "jupyter": {
          "outputs_hidden": false,
          "source_hidden": false
        },
        "nteract": {
          "transient": {
            "deleting": false
          }
        }
      },
      "outputs": [],
      "source": [
        "name = \"train_model_credit_default_prediction\"\n",
        "latest_run_id = \"\" # gets the latest if empty"
      ]
    },
    {
      "cell_type": "code",
      "execution_count": null,
      "metadata": {
        "gather": {
          "logged": 1680017854184
        }
      },
      "outputs": [],
      "source": [
        "workspace = Workspace.from_config()\n",
        "credential = DefaultAzureCredential()\n",
        "ml_client = MLClient.from_config(credential)"
      ]
    },
    {
      "cell_type": "code",
      "execution_count": 8,
      "metadata": {
        "gather": {
          "logged": 1679993362354
        },
        "jupyter": {
          "outputs_hidden": false,
          "source_hidden": false
        },
        "nteract": {
          "transient": {
            "deleting": false
          }
        }
      },
      "outputs": [
        {
          "name": "stdout",
          "output_type": "stream",
          "text": [
            "['_Resource__source_path', '__abstractmethods__', '__class__', '__delattr__', '__dict__', '__dir__', '__doc__', '__eq__', '__format__', '__ge__', '__getattribute__', '__gt__', '__hash__', '__init__', '__init_subclass__', '__le__', '__lt__', '__module__', '__ne__', '__new__', '__reduce__', '__reduce_ex__', '__repr__', '__setattr__', '__sizeof__', '__slots__', '__str__', '__subclasshook__', '__weakref__', '_abc_impl', '_arm_type', '_auto_increment_version', '_base_path', '_creation_context', '_from_container_rest_object', '_from_rest_object', '_get_arm_resource', '_get_arm_resource_and_params', '_id', '_is_anonymous', '_load', '_path', '_resolve_cls_and_type', '_serialize', '_source_path', '_to_arm_resource_param', '_to_dict', '_to_rest_object', '_update_path', '_version', 'base_path', 'creation_context', 'datastore', 'description', 'dump', 'flavors', 'id', 'job_name', 'latest_version', 'name', 'path', 'properties', 'tags', 'type', 'utc_time_created', 'version']\n",
            "Help on method _load in module azure.ai.ml.entities._assets._artifacts.model:\n",
            "\n",
            "_load(data: Dict = None, yaml_path: Union[os.PathLike, str] = None, params_override: list = None, **kwargs) -> 'Model' method of abc.ABCMeta instance\n",
            "    Construct a resource object from a file. @classmethod.\n",
            "    \n",
            "    :param cls: Indicates that this is a class method.\n",
            "    :type cls: class\n",
            "    :param path: Path to a local file as the source.\n",
            "    :type path: Union[PathLike, str]\n",
            "    :param kwargs: A dictionary of additional configuration parameters.\n",
            "    :type kwargs: dict\n",
            "    :return: Resource\n",
            "    :rtype: Resource\n",
            "\n",
            "None\n"
          ]
        }
      ],
      "source": [
        "# get experiment\n",
        "experiment = Experiment(workspace, name)\n",
        "# get experiment's latest run id\n",
        "if latest_run_id:\n",
        "    latest_run = Run.get_run(experiment, latest_run_id)\n",
        "else:\n",
        "    latest_run = next(experiment.get_runs())"
      ]
    },
    {
      "cell_type": "code",
      "execution_count": null,
      "metadata": {
        "jupyter": {
          "outputs_hidden": false,
          "source_hidden": false
        },
        "nteract": {
          "transient": {
            "deleting": false
          }
        }
      },
      "outputs": [],
      "source": [
        "latest_run.download_files(prefix=\"model\")"
      ]
    },
    {
      "cell_type": "code",
      "execution_count": null,
      "metadata": {
        "jupyter": {
          "outputs_hidden": false,
          "source_hidden": false
        },
        "nteract": {
          "transient": {
            "deleting": false
          }
        }
      },
      "outputs": [],
      "source": [
        "# list downloaded artefacts\n",
        "! ls model"
      ]
    },
    {
      "cell_type": "code",
      "execution_count": null,
      "metadata": {
        "jupyter": {
          "outputs_hidden": false,
          "source_hidden": false
        },
        "nteract": {
          "transient": {
            "deleting": false
          }
        }
      },
      "outputs": [],
      "source": [
        "# model registration procedure\n",
        "model = Model.register(model_path=\"model\",\n",
        "                          model_name=name,\n",
        "                          description=\"description-here\",\n",
        "                          workspace=workspace)\n"
      ]
    },
    {
      "cell_type": "code",
      "execution_count": null,
      "metadata": {
        "jupyter": {
          "outputs_hidden": false,
          "source_hidden": false
        },
        "nteract": {
          "transient": {
            "deleting": false
          }
        }
      },
      "outputs": [],
      "source": [
        "# Creating a unique endpoint name with current datetime to avoid conflicts\n",
        "online_endpoint_name = \"cv-model-\" + datetime.datetime.now().strftime(\n",
        "    \"%m%d%H%M%f\"\n",
        ")\n",
        "\n",
        "# create an online endpoint\n",
        "endpoint = ManagedOnlineEndpoint(\n",
        "    name=online_endpoint_name,\n",
        "    description=\"sample online endpoint for deploying model\",\n",
        "    auth_mode=\"key\",\n",
        "    tags={\"foo\": \"bar\"},\n",
        ")\n",
        "print(online_endpoint_name)"
      ]
    },
    {
      "cell_type": "code",
      "execution_count": null,
      "metadata": {
        "jupyter": {
          "outputs_hidden": false,
          "source_hidden": false
        },
        "nteract": {
          "transient": {
            "deleting": false
          }
        }
      },
      "outputs": [],
      "source": [
        "ml_client.begin_create_or_update(endpoint).result()"
      ]
    },
    {
      "cell_type": "code",
      "execution_count": null,
      "metadata": {},
      "outputs": [],
      "source": [
        "deployment = ManagedOnlineDeployment(\n",
        "    name=name,\n",
        "    endpoint_name=online_endpoint_name,\n",
        "    model=model.id,\n",
        "    instance_type=\"Standard_DS3_V2\",\n",
        "    instance_count=1,\n",
        "    liveness_probe=ProbeSettings(\n",
        "        failure_threshold=30,\n",
        "        success_threshold=1,\n",
        "        timeout=2,\n",
        "        period=10,\n",
        "        initial_delay=2000,\n",
        "    ),\n",
        "    readiness_probe=ProbeSettings(\n",
        "        failure_threshold=10,\n",
        "        success_threshold=1,\n",
        "        timeout=10,\n",
        "        period=10,\n",
        "        initial_delay=2000,\n",
        "    ),\n",
        ")"
      ]
    },
    {
      "cell_type": "code",
      "execution_count": null,
      "metadata": {},
      "outputs": [],
      "source": [
        "ml_client.online_deployments.begin_create_or_update(deployment).result()"
      ]
    }
  ],
  "metadata": {
    "kernel_info": {
      "name": "python310-sdkv2"
    },
    "kernelspec": {
      "display_name": "Python 3",
      "language": "python",
      "name": "python3"
    },
    "language_info": {
      "codemirror_mode": {
        "name": "ipython",
        "version": 3
      },
      "file_extension": ".py",
      "mimetype": "text/x-python",
      "name": "python",
      "nbconvert_exporter": "python",
      "pygments_lexer": "ipython3",
      "version": "3.10.6 (main, Nov 18 2022, 19:27:58) [GCC 11.3.0]"
    },
    "microsoft": {
      "host": {
        "AzureML": {
          "notebookHasBeenCompleted": true
        }
      },
      "ms_spell_check": {
        "ms_spell_check_language": "en"
      }
    },
    "nteract": {
      "version": "nteract-front-end@1.0.0"
    },
    "vscode": {
      "interpreter": {
        "hash": "7d6eccc19da4898ae818a5c23515c915004a8e11ae1481224e090bcab6fd4867"
      }
    }
  },
  "nbformat": 4,
  "nbformat_minor": 2
}
