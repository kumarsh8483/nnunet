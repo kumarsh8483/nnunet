{
  "cells": [
    {
      "cell_type": "code",
      "source": [
        "import os\n",
        "import azureml.core\n",
        "from azureml.core import (\n",
        "    Workspace,\n",
        "    Experiment,\n",
        "    Dataset,\n",
        "    Datastore,\n",
        "    ComputeTarget,\n",
        "    Environment,\n",
        "    ScriptRunConfig,\n",
        ")\n",
        "from azureml.data import OutputFileDatasetConfig\n",
        "from azureml.core.compute import AmlCompute\n",
        "from azureml.core.compute_target import ComputeTargetException\n",
        "from azureml.pipeline.steps import PythonScriptStep\n",
        "from azureml.pipeline.core import Pipeline\n",
        "from azureml.core.runconfig import DockerConfiguration\n",
        "\n",
        "# check core SDK version number\n",
        "print(\"Azure ML SDK Version: \", azureml.core.VERSION)"
      ],
      "outputs": [
        {
          "output_type": "stream",
          "name": "stdout",
          "text": "Azure ML SDK Version:  1.48.0\n"
        }
      ],
      "execution_count": 33,
      "metadata": {
        "gather": {
          "logged": 1684954235098
        }
      }
    },
    {
      "cell_type": "code",
      "source": [
        "workspace = Workspace.from_config()"
      ],
      "outputs": [],
      "execution_count": 34,
      "metadata": {
        "jupyter": {
          "source_hidden": false,
          "outputs_hidden": false
        },
        "nteract": {
          "transient": {
            "deleting": false
          }
        },
        "gather": {
          "logged": 1684954236973
        }
      }
    },
    {
      "cell_type": "code",
      "source": [
        "\n",
        "exp = Experiment(workspace=workspace, name=\"trainv1-with-epochs\")"
      ],
      "outputs": [],
      "execution_count": 35,
      "metadata": {
        "jupyter": {
          "source_hidden": false,
          "outputs_hidden": false
        },
        "nteract": {
          "transient": {
            "deleting": false
          }
        },
        "gather": {
          "logged": 1684954237498
        }
      }
    },
    {
      "cell_type": "code",
      "source": [
        "output = OutputFileDatasetConfig(name=\"nnUNet\", destination=None, source=\"/output/\") # source should be same with RESULTS_DIR in docker\n"
      ],
      "outputs": [],
      "execution_count": 36,
      "metadata": {
        "jupyter": {
          "source_hidden": false,
          "outputs_hidden": false
        },
        "nteract": {
          "transient": {
            "deleting": false
          }
        },
        "gather": {
          "logged": 1684954237625
        }
      }
    },
    {
      "cell_type": "code",
      "source": [
        "#Create an Azure ML Compute:\n",
        "from azureml.core.compute import AmlCompute\n",
        "\n",
        "compute_name = \"trainv1-with-epochs-compute\"\n",
        "\n",
        "if compute_name in workspace.compute_targets:\n",
        "    compute_target = workspace.compute_targets[compute_name]\n",
        "    print(f'Found existing compute target {compute_name}')\n",
        "else:\n",
        "    provisioning_config = AmlCompute.provisioning_configuration(vm_size='STANDARD_NC6',#'', STANDARD_D2_V2\n",
        "                                                                min_nodes=0,\n",
        "                                                                max_nodes=1)\n",
        "    compute_target = ComputeTarget.create(workspace, compute_name, provisioning_config)\n",
        "    compute_target.wait_for_completion(show_output=True)\n",
        "    print(f'Compute_target {compute_name} created')"
      ],
      "outputs": [
        {
          "output_type": "stream",
          "name": "stdout",
          "text": "InProgress.\nSucceededProvisioning operation finished, operation \"Succeeded\"\nSucceeded\nAmlCompute wait for completion finished\n\nMinimum number of nodes requested have been provisioned\nCompute_target trainv1-with-epochs-compute created\n"
        }
      ],
      "execution_count": 37,
      "metadata": {
        "jupyter": {
          "source_hidden": false,
          "outputs_hidden": false
        },
        "nteract": {
          "transient": {
            "deleting": false
          }
        },
        "gather": {
          "logged": 1684954245602
        }
      }
    },
    {
      "cell_type": "code",
      "source": [
        "script_folder = \"src/\"\n",
        "\n",
        "prep_step = PythonScriptStep(\n",
        "    name=\"prepare step\",\n",
        "    script_name=\"prepare.py\",\n",
        "    arguments=[], # no arguments for now\n",
        "    source_directory=script_folder,\n",
        "    compute_target=compute_target,\n",
        "    allow_reuse=True,\n",
        ")"
      ],
      "outputs": [],
      "execution_count": 38,
      "metadata": {
        "jupyter": {
          "source_hidden": false,
          "outputs_hidden": false
        },
        "nteract": {
          "transient": {
            "deleting": false
          }
        },
        "gather": {
          "logged": 1684954261513
        }
      }
    },
    {
      "cell_type": "code",
      "source": [
        "\n",
        "print(compute_target)"
      ],
      "outputs": [
        {
          "output_type": "stream",
          "name": "stdout",
          "text": "AmlCompute(workspace=Workspace.create(name='nnunet', subscription_id='e5fb5c5f-cb5c-42c8-86b6-cf4fd5aac11b', resource_group='azureml-test'), name=trainv1-with-epochs-compute, id=/subscriptions/e5fb5c5f-cb5c-42c8-86b6-cf4fd5aac11b/resourceGroups/azureml-test/providers/Microsoft.MachineLearningServices/workspaces/nnunet/computes/trainv1-with-epochs-compute, type=AmlCompute, provisioning_state=Succeeded, location=eastus2, tags={})\n"
        }
      ],
      "execution_count": 39,
      "metadata": {
        "jupyter": {
          "source_hidden": false,
          "outputs_hidden": false
        },
        "nteract": {
          "transient": {
            "deleting": false
          }
        },
        "gather": {
          "logged": 1684954264475
        }
      }
    },
    {
      "cell_type": "code",
      "source": [
        "docker_env = Environment(\"nnunet-docker\")\n",
        "docker_env.docker.base_image = \"nnunet.azurecr.io/training_env:gpu\" # example : \"fastdotai/fastai2:latest\"\n",
        "docker_env.python.user_managed_dependencies = True\n",
        "docker_config=DockerConfiguration(use_docker=True,shm_size='32g')\n",
        "\n",
        "train_cfg = ScriptRunConfig(\n",
        "    source_directory=script_folder,\n",
        "    script=\"trainv1.py\",\n",
        "    #arguments=[output], # specify outputs directory for azure\n",
        "    compute_target=compute_target,\n",
        "    environment=docker_env,\n",
        "    docker_runtime_config=docker_config,\n",
        ")\n",
        "\n",
        "# create the training step :\n",
        "train_step = PythonScriptStep(\n",
        "    name=\"training step\",\n",
        "    outputs=[output],\n",
        "    source_directory=train_cfg.source_directory,\n",
        "    script_name=train_cfg.script,\n",
        "    runconfig=train_cfg.run_config,\n",
        ")"
      ],
      "outputs": [],
      "execution_count": 40,
      "metadata": {
        "jupyter": {
          "source_hidden": false,
          "outputs_hidden": false
        },
        "nteract": {
          "transient": {
            "deleting": false
          }
        },
        "gather": {
          "logged": 1684954267502
        }
      }
    },
    {
      "cell_type": "code",
      "source": [
        "\n",
        "pipeline = Pipeline(workspace, steps=[prep_step,train_step])\n",
        "run = exp.submit(pipeline)"
      ],
      "outputs": [
        {
          "output_type": "stream",
          "name": "stdout",
          "text": "Created step prepare step [0657a4e6][9f5968b2-efbc-490c-bccc-638f77a30555], (This step is eligible to reuse a previous run's output)\nCreated step training step [463a66a3][9c3af33a-864f-4cbf-9afc-19bba9f522c9], (This step is eligible to reuse a previous run's output)\nSubmitted PipelineRun 9260493a-d890-481e-8aa8-60feae146611\nLink to Azure Machine Learning Portal: https://ml.azure.com/runs/9260493a-d890-481e-8aa8-60feae146611?wsid=/subscriptions/e5fb5c5f-cb5c-42c8-86b6-cf4fd5aac11b/resourcegroups/azureml-test/workspaces/nnunet&tid=610ba57f-df8b-4dc2-8ddf-2532d017cd71\n"
        }
      ],
      "execution_count": 41,
      "metadata": {
        "jupyter": {
          "source_hidden": false,
          "outputs_hidden": false
        },
        "nteract": {
          "transient": {
            "deleting": false
          }
        },
        "gather": {
          "logged": 1684954273537
        }
      }
    },
    {
      "cell_type": "code",
      "source": [],
      "outputs": [],
      "execution_count": null,
      "metadata": {
        "jupyter": {
          "source_hidden": false,
          "outputs_hidden": false
        },
        "nteract": {
          "transient": {
            "deleting": false
          }
        }
      }
    }
  ],
  "metadata": {
    "kernelspec": {
      "name": "python38-azureml",
      "language": "python",
      "display_name": "Python 3.8 - AzureML"
    },
    "language_info": {
      "name": "python",
      "version": "3.8.10",
      "mimetype": "text/x-python",
      "codemirror_mode": {
        "name": "ipython",
        "version": 3
      },
      "pygments_lexer": "ipython3",
      "nbconvert_exporter": "python",
      "file_extension": ".py"
    },
    "microsoft": {
      "ms_spell_check": {
        "ms_spell_check_language": "en"
      },
      "host": {
        "AzureML": {
          "notebookHasBeenCompleted": true
        }
      }
    },
    "kernel_info": {
      "name": "python38-azureml"
    },
    "nteract": {
      "version": "nteract-front-end@1.0.0"
    }
  },
  "nbformat": 4,
  "nbformat_minor": 2
}