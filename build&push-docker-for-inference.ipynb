{
  "cells": [
    {
      "cell_type": "code",
      "source": [
        "# extra : build docker & push to registry from notebook\n",
        "\n",
        "os.chdir(\"docker\")\n",
        "! docker build -f Dockerfile.inference -t nnunet.azurecr.io/prediction_env .\n",
        "os.chdir(\"..\")"
      ],
      "outputs": [
        {
          "output_type": "stream",
          "name": "stdout",
          "text": "Sending build context to Docker daemon  9.216kB\nStep 1/3 : FROM \tmcr.microsoft.com/azureml/minimal-ubuntu20.04-py38-cpu-inference:latest\nlatest: Pulling from azureml/minimal-ubuntu20.04-py38-cpu-inference\n\n\u001b[1Bebdc0c7b: Pulling fs layer \n\u001b[1B482dce27: Pulling fs layer \n\u001b[1Bc6e1394d: Pulling fs layer \n\u001b[1B15498fdb: Pulling fs layer \n\u001b[1Bce992f98: Pulling fs layer \n\u001b[1Bbf1a11bd: Pulling fs layer \n\u001b[1Bdff89bf0: Pulling fs layer \n\u001b[1B39d35dfa: Pulling fs layer \n\u001b[1Ba984ca2a: Pulling fs layer \n\u001b[1Bd9460b90: Pulling fs layer \n\u001b[1Bb8f64605: Pulling fs layer \n\u001b[1Ba40fbc8d: Pulling fs layer \n\u001b[1Ba9897090: Pulling fs layer \n\u001b[1Bba34fdb2: Pulling fs layer \n\u001b[1Ba930914b: Pulling fs layer \n\u001b[1BDigest: sha256:01e6ab89b1e89ca05090f5516faf3b57fed8f6b3600ab620e00de1da643ac416\nStatus: Downloaded newer image for mcr.microsoft.com/azureml/minimal-ubuntu20.04-py38-cpu-inference:latest\n ---> 37958fe0d24a\nStep 2/3 : RUN pip install nnunet\n ---> Running in f1e37d72e1bd\nCollecting nnunet\n  Downloading nnunet-1.7.1.tar.gz (276 kB)\nCollecting torch>1.10.0\n  Downloading torch-2.0.0-cp38-cp38-manylinux1_x86_64.whl (619.9 MB)\nCollecting tqdm\n  Downloading tqdm-4.65.0-py3-none-any.whl (77 kB)\nCollecting dicom2nifti\n  Downloading dicom2nifti-2.4.8-py3-none-any.whl (43 kB)\nCollecting scikit-image>=0.14\n  Downloading scikit_image-0.20.0-cp38-cp38-manylinux_2_17_x86_64.manylinux2014_x86_64.whl (13.4 MB)\nCollecting medpy\n  Downloading MedPy-0.4.0.tar.gz (151 kB)\nCollecting scipy\n  Downloading scipy-1.10.1-cp38-cp38-manylinux_2_17_x86_64.manylinux2014_x86_64.whl (34.5 MB)\nCollecting batchgenerators>=0.23\n  Downloading batchgenerators-0.25.tar.gz (61 kB)\nCollecting numpy\n  Downloading numpy-1.24.2-cp38-cp38-manylinux_2_17_x86_64.manylinux2014_x86_64.whl (17.3 MB)\nCollecting scikit-learn\n  Downloading scikit_learn-1.2.2-cp38-cp38-manylinux_2_17_x86_64.manylinux2014_x86_64.whl (9.8 MB)\nCollecting SimpleITK\n  Downloading SimpleITK-2.2.1-cp38-cp38-manylinux_2_17_x86_64.manylinux2014_x86_64.whl (52.7 MB)\nCollecting pandas\n  Downloading pandas-2.0.0-cp38-cp38-manylinux_2_17_x86_64.manylinux2014_x86_64.whl (12.3 MB)\nRequirement already satisfied: requests in /opt/miniconda/envs/amlenv/lib/python3.8/site-packages (from nnunet) (2.28.2)\nCollecting nibabel\n  Downloading nibabel-5.1.0-py3-none-any.whl (3.3 MB)\nCollecting tifffile\n  Downloading tifffile-2023.4.12-py3-none-any.whl (219 kB)\nCollecting matplotlib\n  Downloading matplotlib-3.7.1-cp38-cp38-manylinux_2_12_x86_64.manylinux2010_x86_64.whl (9.2 MB)\nCollecting pillow>=7.1.2\n  Downloading Pillow-9.5.0-cp38-cp38-manylinux_2_28_x86_64.whl (3.4 MB)\nCollecting future\n  Downloading future-0.18.3.tar.gz (840 kB)\nCollecting unittest2\n  Downloading unittest2-1.1.0-py2.py3-none-any.whl (96 kB)\nCollecting threadpoolctl\n  Downloading threadpoolctl-3.1.0-py3-none-any.whl (14 kB)\nCollecting lazy_loader>=0.1\n  Downloading lazy_loader-0.2-py3-none-any.whl (8.6 kB)\nCollecting PyWavelets>=1.1.1\n  Downloading PyWavelets-1.4.1-cp38-cp38-manylinux_2_17_x86_64.manylinux2014_x86_64.whl (6.9 MB)\nCollecting networkx>=2.8\n  Downloading networkx-3.1-py3-none-any.whl (2.1 MB)\nCollecting scipy\n  Downloading scipy-1.9.1-cp38-cp38-manylinux_2_17_x86_64.manylinux2014_x86_64.whl (43.4 MB)\nCollecting packaging>=20.0\n  Downloading packaging-23.1-py3-none-any.whl (48 kB)\nCollecting imageio>=2.4.1\n  Downloading imageio-2.27.0-py3-none-any.whl (3.4 MB)\nCollecting nvidia-cuda-cupti-cu11==11.7.101\n  Downloading nvidia_cuda_cupti_cu11-11.7.101-py3-none-manylinux1_x86_64.whl (11.8 MB)\nCollecting nvidia-cudnn-cu11==8.5.0.96\n  Downloading nvidia_cudnn_cu11-8.5.0.96-2-py3-none-manylinux1_x86_64.whl (557.1 MB)\nRequirement already satisfied: jinja2 in /opt/miniconda/envs/amlenv/lib/python3.8/site-packages (from torch>1.10.0->nnunet) (3.1.2)\nCollecting nvidia-cuda-nvrtc-cu11==11.7.99\n  Downloading nvidia_cuda_nvrtc_cu11-11.7.99-2-py3-none-manylinux1_x86_64.whl (21.0 MB)\nCollecting triton==2.0.0\n  Downloading triton-2.0.0-1-cp38-cp38-manylinux2014_x86_64.manylinux_2_17_x86_64.whl (63.2 MB)\nCollecting nvidia-cufft-cu11==10.9.0.58\n  Downloading nvidia_cufft_cu11-10.9.0.58-py3-none-manylinux1_x86_64.whl (168.4 MB)\nCollecting nvidia-nccl-cu11==2.14.3\n  Downloading nvidia_nccl_cu11-2.14.3-py3-none-manylinux1_x86_64.whl (177.1 MB)\nCollecting filelock\n  Downloading filelock-3.11.0-py3-none-any.whl (10.0 kB)\nCollecting sympy\n  Downloading sympy-1.11.1-py3-none-any.whl (6.5 MB)\nCollecting nvidia-cusolver-cu11==11.4.0.1\n  Downloading nvidia_cusolver_cu11-11.4.0.1-2-py3-none-manylinux1_x86_64.whl (102.6 MB)\nCollecting nvidia-nvtx-cu11==11.7.91\n  Downloading nvidia_nvtx_cu11-11.7.91-py3-none-manylinux1_x86_64.whl (98 kB)\nCollecting nvidia-curand-cu11==10.2.10.91\n  Downloading nvidia_curand_cu11-10.2.10.91-py3-none-manylinux1_x86_64.whl (54.6 MB)\nCollecting nvidia-cublas-cu11==11.10.3.66\n  Downloading nvidia_cublas_cu11-11.10.3.66-py3-none-manylinux1_x86_64.whl (317.1 MB)\nCollecting nvidia-cusparse-cu11==11.7.4.91\n  Downloading nvidia_cusparse_cu11-11.7.4.91-py3-none-manylinux1_x86_64.whl (173.2 MB)\nCollecting nvidia-cuda-runtime-cu11==11.7.99\n  Downloading nvidia_cuda_runtime_cu11-11.7.99-py3-none-manylinux1_x86_64.whl (849 kB)\nRequirement already satisfied: typing-extensions in /opt/miniconda/envs/amlenv/lib/python3.8/site-packages (from torch>1.10.0->nnunet) (4.5.0)\nRequirement already satisfied: setuptools in /opt/miniconda/envs/amlenv/lib/python3.8/site-packages (from nvidia-cublas-cu11==11.10.3.66->torch>1.10.0->nnunet) (67.6.1)\nRequirement already satisfied: wheel in /opt/miniconda/envs/amlenv/lib/python3.8/site-packages (from nvidia-cublas-cu11==11.10.3.66->torch>1.10.0->nnunet) (0.40.0)\nCollecting lit\n  Downloading lit-16.0.1.tar.gz (137 kB)\nCollecting cmake\n  Downloading cmake-3.26.3-py2.py3-none-manylinux2014_x86_64.manylinux_2_17_x86_64.whl (24.0 MB)\nCollecting python-gdcm\n  Downloading python_gdcm-3.0.21-cp38-cp38-manylinux_2_17_x86_64.manylinux2014_x86_64.whl (13.0 MB)\nCollecting pydicom>=2.2.0\n  Downloading pydicom-2.3.1-py3-none-any.whl (2.0 MB)\nRequirement already satisfied: MarkupSafe>=2.0 in /opt/miniconda/envs/amlenv/lib/python3.8/site-packages (from jinja2->torch>1.10.0->nnunet) (2.1.2)\nCollecting contourpy>=1.0.1\n  Downloading contourpy-1.0.7-cp38-cp38-manylinux_2_17_x86_64.manylinux2014_x86_64.whl (300 kB)\nCollecting pyparsing>=2.3.1\n  Downloading pyparsing-3.0.9-py3-none-any.whl (98 kB)\nCollecting importlib-resources>=3.2.0\n  Downloading importlib_resources-5.12.0-py3-none-any.whl (36 kB)\nCollecting kiwisolver>=1.0.1\n  Downloading kiwisolver-1.4.4-cp38-cp38-manylinux_2_5_x86_64.manylinux1_x86_64.whl (1.2 MB)\nCollecting cycler>=0.10\n  Downloading cycler-0.11.0-py3-none-any.whl (6.4 kB)\nRequirement already satisfied: python-dateutil>=2.7 in /opt/miniconda/envs/amlenv/lib/python3.8/site-packages (from matplotlib->nnunet) (2.8.2)\nCollecting fonttools>=4.22.0\n  Downloading fonttools-4.39.3-py3-none-any.whl (1.0 MB)\nRequirement already satisfied: zipp>=3.1.0 in /opt/miniconda/envs/amlenv/lib/python3.8/site-packages (from importlib-resources>=3.2.0->matplotlib->nnunet) (3.15.0)\nRequirement already satisfied: six>=1.5 in /opt/miniconda/envs/amlenv/lib/python3.8/site-packages (from python-dateutil>=2.7->matplotlib->nnunet) (1.16.0)\nCollecting tzdata>=2022.1\n  Downloading tzdata-2023.3-py2.py3-none-any.whl (341 kB)\nRequirement already satisfied: pytz>=2020.1 in /opt/miniconda/envs/amlenv/lib/python3.8/site-packages (from pandas->nnunet) (2023.3)\nRequirement already satisfied: urllib3<1.27,>=1.21.1 in /opt/miniconda/envs/amlenv/lib/python3.8/site-packages (from requests->nnunet) (1.26.15)\nRequirement already satisfied: idna<4,>=2.5 in /opt/miniconda/envs/amlenv/lib/python3.8/site-packages (from requests->nnunet) (3.4)\nRequirement already satisfied: certifi>=2017.4.17 in /opt/miniconda/envs/amlenv/lib/python3.8/site-packages (from requests->nnunet) (2022.12.7)\nRequirement already satisfied: charset-normalizer<4,>=2 in /opt/miniconda/envs/amlenv/lib/python3.8/site-packages (from requests->nnunet) (3.1.0)\nCollecting joblib>=1.1.1\n  Downloading joblib-1.2.0-py3-none-any.whl (297 kB)\nCollecting mpmath>=0.19\n  Downloading mpmath-1.3.0-py3-none-any.whl (536 kB)\nCollecting traceback2\n  Downloading traceback2-1.4.0-py2.py3-none-any.whl (16 kB)\nCollecting argparse\n  Downloading argparse-1.4.0-py2.py3-none-any.whl (23 kB)\nCollecting linecache2\n  Downloading linecache2-1.0.0-py2.py3-none-any.whl (12 kB)\nBuilding wheels for collected packages: nnunet, batchgenerators, future, lit, medpy\n  Building wheel for nnunet (setup.py): started\n  Building wheel for nnunet (setup.py): finished with status 'done'\n  Created wheel for nnunet: filename=nnunet-1.7.1-py3-none-any.whl size=531267 sha256=b9ffc3c0973897f83a0da59844cfbaac3b4faab3c0d4637dd65fbd0011f4b17f\n  Stored in directory: /home/dockeruser/.cache/pip/wheels/99/d0/2b/b46fcb9cc306bfee4c57fb505c52da490305f924b3e5e70be1\n  Building wheel for batchgenerators (setup.py): started\n  Building wheel for batchgenerators (setup.py): finished with status 'done'\n  Created wheel for batchgenerators: filename=batchgenerators-0.25-py3-none-any.whl size=89009 sha256=ae15fde66b5ab1a4a09de1fa64d577bf4b23ddf51b8e2889c0538c77cf2e7f3d\n  Stored in directory: /home/dockeruser/.cache/pip/wheels/cd/2c/17/8e670e2617fda5fcbc62ebc500243c6061a547d77854ef5808\n  Building wheel for future (setup.py): started\n  Building wheel for future (setup.py): finished with status 'done'\n  Created wheel for future: filename=future-0.18.3-py3-none-any.whl size=492022 sha256=612a753faefd53c1cdcfb639c2571b1d79e2b4f85da7113cdda5f1cb148cdefd\n  Stored in directory: /home/dockeruser/.cache/pip/wheels/a0/0b/ee/e6994fadb42c1354dcccb139b0bf2795271bddfe6253ccdf11\n  Building wheel for lit (setup.py): started\n  Building wheel for lit (setup.py): finished with status 'done'\n  Created wheel for lit: filename=lit-16.0.1-py3-none-any.whl size=88172 sha256=372bef5695d670629241a33d8c824b238b01f21449a54ea169045a49bac223ff\n  Stored in directory: /home/dockeruser/.cache/pip/wheels/12/14/ba/87be46a564f97692e6cd1f6d7a1deeb5bff2821d45a52e8d7a\n  Building wheel for medpy (setup.py): started\n  Building wheel for medpy (setup.py): finished with status 'done'\n  Created wheel for medpy: filename=MedPy-0.4.0-py3-none-any.whl size=214946 sha256=a55d38ce38ce2ba67820adb8454bb1f6cd65e978b9e299e29b5ccd24b6d861c7\n  Stored in directory: /home/dockeruser/.cache/pip/wheels/fc/38/7d/e0b8bcb2770f779a93cab5ab7fa6dd344011e1278cb90cab86\nSuccessfully built nnunet batchgenerators future lit medpy\nInstalling collected packages: pillow, numpy, linecache2, traceback2, tifffile, threadpoolctl, scipy, PyWavelets, packaging, nvidia-cublas-cu11, networkx, mpmath, lit, lazy-loader, joblib, importlib-resources, imageio, filelock, cmake, argparse, unittest2, tzdata, triton, sympy, SimpleITK, scikit-learn, scikit-image, python-gdcm, pyparsing, pydicom, nvidia-nvtx-cu11, nvidia-nccl-cu11, nvidia-cusparse-cu11, nvidia-cusolver-cu11, nvidia-curand-cu11, nvidia-cufft-cu11, nvidia-cudnn-cu11, nvidia-cuda-runtime-cu11, nvidia-cuda-nvrtc-cu11, nvidia-cuda-cupti-cu11, nibabel, kiwisolver, future, fonttools, cycler, contourpy, tqdm, torch, pandas, medpy, matplotlib, dicom2nifti, batchgenerators, nnunet\nSuccessfully installed PyWavelets-1.4.1 SimpleITK-2.2.1 argparse-1.4.0 batchgenerators-0.25 cmake-3.26.3 contourpy-1.0.7 cycler-0.11.0 dicom2nifti-2.4.8 filelock-3.11.0 fonttools-4.39.3 future-0.18.3 imageio-2.27.0 importlib-resources-5.12.0 joblib-1.2.0 kiwisolver-1.4.4 lazy-loader-0.2 linecache2-1.0.0 lit-16.0.1 matplotlib-3.7.1 medpy-0.4.0 mpmath-1.3.0 networkx-3.1 nibabel-5.1.0 nnunet-1.7.1 numpy-1.24.2 nvidia-cublas-cu11-11.10.3.66 nvidia-cuda-cupti-cu11-11.7.101 nvidia-cuda-nvrtc-cu11-11.7.99 nvidia-cuda-runtime-cu11-11.7.99 nvidia-cudnn-cu11-8.5.0.96 nvidia-cufft-cu11-10.9.0.58 nvidia-curand-cu11-10.2.10.91 nvidia-cusolver-cu11-11.4.0.1 nvidia-cusparse-cu11-11.7.4.91 nvidia-nccl-cu11-2.14.3 nvidia-nvtx-cu11-11.7.91 packaging-23.1 pandas-2.0.0 pillow-9.5.0 pydicom-2.3.1 pyparsing-3.0.9 python-gdcm-3.0.21 scikit-image-0.20.0 scikit-learn-1.2.2 scipy-1.9.1 sympy-1.11.1 threadpoolctl-3.1.0 tifffile-2023.4.12 torch-2.0.0 tqdm-4.65.0 traceback2-1.4.0 triton-2.0.0 tzdata-2023.3 unittest2-1.1.0\nRemoving intermediate container f1e37d72e1bd\n ---> 763a9edeafde\nStep 3/3 : RUN pip install azureml-inference-server-http\n ---> Running in 3e2d43d1fd30\nRequirement already satisfied: azureml-inference-server-http in /opt/miniconda/envs/amlenv/lib/python3.8/site-packages (0.8.3)\nRequirement already satisfied: gunicorn==20.1.0 in /opt/miniconda/envs/amlenv/lib/python3.8/site-packages (from azureml-inference-server-http) (20.1.0)\nRequirement already satisfied: inference-schema~=1.5.0 in /opt/miniconda/envs/amlenv/lib/python3.8/site-packages (from azureml-inference-server-http) (1.5.1)\nRequirement already satisfied: pydantic<1.11,>=1.9 in /opt/miniconda/envs/amlenv/lib/python3.8/site-packages (from azureml-inference-server-http) (1.10.7)\nRequirement already satisfied: flask-cors~=3.0.1 in /opt/miniconda/envs/amlenv/lib/python3.8/site-packages (from azureml-inference-server-http) (3.0.10)\nRequirement already satisfied: flask<2.3.0 in /opt/miniconda/envs/amlenv/lib/python3.8/site-packages (from azureml-inference-server-http) (2.2.3)\nRequirement already satisfied: opencensus-ext-azure~=1.1.0 in /opt/miniconda/envs/amlenv/lib/python3.8/site-packages (from azureml-inference-server-http) (1.1.9)\nRequirement already satisfied: setuptools>=3.0 in /opt/miniconda/envs/amlenv/lib/python3.8/site-packages (from gunicorn==20.1.0->azureml-inference-server-http) (67.6.1)\nRequirement already satisfied: itsdangerous>=2.0 in /opt/miniconda/envs/amlenv/lib/python3.8/site-packages (from flask<2.3.0->azureml-inference-server-http) (2.1.2)\nRequirement already satisfied: importlib-metadata>=3.6.0 in /opt/miniconda/envs/amlenv/lib/python3.8/site-packages (from flask<2.3.0->azureml-inference-server-http) (6.1.0)\nRequirement already satisfied: Jinja2>=3.0 in /opt/miniconda/envs/amlenv/lib/python3.8/site-packages (from flask<2.3.0->azureml-inference-server-http) (3.1.2)\nRequirement already satisfied: Werkzeug>=2.2.2 in /opt/miniconda/envs/amlenv/lib/python3.8/site-packages (from flask<2.3.0->azureml-inference-server-http) (2.2.3)\nRequirement already satisfied: click>=8.0 in /opt/miniconda/envs/amlenv/lib/python3.8/site-packages (from flask<2.3.0->azureml-inference-server-http) (8.1.3)\nRequirement already satisfied: Six in /opt/miniconda/envs/amlenv/lib/python3.8/site-packages (from flask-cors~=3.0.1->azureml-inference-server-http) (1.16.0)\nRequirement already satisfied: zipp>=0.5 in /opt/miniconda/envs/amlenv/lib/python3.8/site-packages (from importlib-metadata>=3.6.0->flask<2.3.0->azureml-inference-server-http) (3.15.0)\nRequirement already satisfied: pytz>=2017.2 in /opt/miniconda/envs/amlenv/lib/python3.8/site-packages (from inference-schema~=1.5.0->azureml-inference-server-http) (2023.3)\nRequirement already satisfied: python-dateutil>=2.5.3 in /opt/miniconda/envs/amlenv/lib/python3.8/site-packages (from inference-schema~=1.5.0->azureml-inference-server-http) (2.8.2)\nRequirement already satisfied: wrapt<=1.12.1,>=1.11.1 in /opt/miniconda/envs/amlenv/lib/python3.8/site-packages (from inference-schema~=1.5.0->azureml-inference-server-http) (1.12.1)\nRequirement already satisfied: MarkupSafe>=2.0 in /opt/miniconda/envs/amlenv/lib/python3.8/site-packages (from Jinja2>=3.0->flask<2.3.0->azureml-inference-server-http) (2.1.2)\nRequirement already satisfied: psutil>=5.6.3 in /opt/miniconda/envs/amlenv/lib/python3.8/site-packages (from opencensus-ext-azure~=1.1.0->azureml-inference-server-http) (5.9.4)\nRequirement already satisfied: requests>=2.19.0 in /opt/miniconda/envs/amlenv/lib/python3.8/site-packages (from opencensus-ext-azure~=1.1.0->azureml-inference-server-http) (2.28.2)\nRequirement already satisfied: azure-core<2.0.0,>=1.12.0 in /opt/miniconda/envs/amlenv/lib/python3.8/site-packages (from opencensus-ext-azure~=1.1.0->azureml-inference-server-http) (1.26.3)\nRequirement already satisfied: opencensus<1.0.0,>=0.11.2 in /opt/miniconda/envs/amlenv/lib/python3.8/site-packages (from opencensus-ext-azure~=1.1.0->azureml-inference-server-http) (0.11.2)\nRequirement already satisfied: azure-identity<2.0.0,>=1.5.0 in /opt/miniconda/envs/amlenv/lib/python3.8/site-packages (from opencensus-ext-azure~=1.1.0->azureml-inference-server-http) (1.12.0)\nRequirement already satisfied: typing-extensions>=4.0.1 in /opt/miniconda/envs/amlenv/lib/python3.8/site-packages (from azure-core<2.0.0,>=1.12.0->opencensus-ext-azure~=1.1.0->azureml-inference-server-http) (4.5.0)\nRequirement already satisfied: msal-extensions<2.0.0,>=0.3.0 in /opt/miniconda/envs/amlenv/lib/python3.8/site-packages (from azure-identity<2.0.0,>=1.5.0->opencensus-ext-azure~=1.1.0->azureml-inference-server-http) (1.0.0)\nRequirement already satisfied: cryptography>=2.5 in /opt/miniconda/envs/amlenv/lib/python3.8/site-packages (from azure-identity<2.0.0,>=1.5.0->opencensus-ext-azure~=1.1.0->azureml-inference-server-http) (40.0.1)\nRequirement already satisfied: msal<2.0.0,>=1.12.0 in /opt/miniconda/envs/amlenv/lib/python3.8/site-packages (from azure-identity<2.0.0,>=1.5.0->opencensus-ext-azure~=1.1.0->azureml-inference-server-http) (1.21.0)\nRequirement already satisfied: cffi>=1.12 in /opt/miniconda/envs/amlenv/lib/python3.8/site-packages (from cryptography>=2.5->azure-identity<2.0.0,>=1.5.0->opencensus-ext-azure~=1.1.0->azureml-inference-server-http) (1.15.1)\nRequirement already satisfied: pycparser in /opt/miniconda/envs/amlenv/lib/python3.8/site-packages (from cffi>=1.12->cryptography>=2.5->azure-identity<2.0.0,>=1.5.0->opencensus-ext-azure~=1.1.0->azureml-inference-server-http) (2.21)\nRequirement already satisfied: PyJWT[crypto]<3,>=1.0.0 in /opt/miniconda/envs/amlenv/lib/python3.8/site-packages (from msal<2.0.0,>=1.12.0->azure-identity<2.0.0,>=1.5.0->opencensus-ext-azure~=1.1.0->azureml-inference-server-http) (2.6.0)\nRequirement already satisfied: portalocker<3,>=1.0 in /opt/miniconda/envs/amlenv/lib/python3.8/site-packages (from msal-extensions<2.0.0,>=0.3.0->azure-identity<2.0.0,>=1.5.0->opencensus-ext-azure~=1.1.0->azureml-inference-server-http) (2.7.0)\nRequirement already satisfied: google-api-core<3.0.0,>=1.0.0 in /opt/miniconda/envs/amlenv/lib/python3.8/site-packages (from opencensus<1.0.0,>=0.11.2->opencensus-ext-azure~=1.1.0->azureml-inference-server-http) (2.11.0)\nRequirement already satisfied: opencensus-context>=0.1.3 in /opt/miniconda/envs/amlenv/lib/python3.8/site-packages (from opencensus<1.0.0,>=0.11.2->opencensus-ext-azure~=1.1.0->azureml-inference-server-http) (0.1.3)\nRequirement already satisfied: googleapis-common-protos<2.0dev,>=1.56.2 in /opt/miniconda/envs/amlenv/lib/python3.8/site-packages (from google-api-core<3.0.0,>=1.0.0->opencensus<1.0.0,>=0.11.2->opencensus-ext-azure~=1.1.0->azureml-inference-server-http) (1.59.0)\nRequirement already satisfied: google-auth<3.0dev,>=2.14.1 in /opt/miniconda/envs/amlenv/lib/python3.8/site-packages (from google-api-core<3.0.0,>=1.0.0->opencensus<1.0.0,>=0.11.2->opencensus-ext-azure~=1.1.0->azureml-inference-server-http) (2.17.1)\nRequirement already satisfied: protobuf!=3.20.0,!=3.20.1,!=4.21.0,!=4.21.1,!=4.21.2,!=4.21.3,!=4.21.4,!=4.21.5,<5.0.0dev,>=3.19.5 in /opt/miniconda/envs/amlenv/lib/python3.8/site-packages (from google-api-core<3.0.0,>=1.0.0->opencensus<1.0.0,>=0.11.2->opencensus-ext-azure~=1.1.0->azureml-inference-server-http) (4.22.1)\nRequirement already satisfied: pyasn1-modules>=0.2.1 in /opt/miniconda/envs/amlenv/lib/python3.8/site-packages (from google-auth<3.0dev,>=2.14.1->google-api-core<3.0.0,>=1.0.0->opencensus<1.0.0,>=0.11.2->opencensus-ext-azure~=1.1.0->azureml-inference-server-http) (0.2.8)\nRequirement already satisfied: rsa<5,>=3.1.4 in /opt/miniconda/envs/amlenv/lib/python3.8/site-packages (from google-auth<3.0dev,>=2.14.1->google-api-core<3.0.0,>=1.0.0->opencensus<1.0.0,>=0.11.2->opencensus-ext-azure~=1.1.0->azureml-inference-server-http) (4.9)\nRequirement already satisfied: cachetools<6.0,>=2.0.0 in /opt/miniconda/envs/amlenv/lib/python3.8/site-packages (from google-auth<3.0dev,>=2.14.1->google-api-core<3.0.0,>=1.0.0->opencensus<1.0.0,>=0.11.2->opencensus-ext-azure~=1.1.0->azureml-inference-server-http) (5.3.0)\nRequirement already satisfied: pyasn1<0.5.0,>=0.4.6 in /opt/miniconda/envs/amlenv/lib/python3.8/site-packages (from pyasn1-modules>=0.2.1->google-auth<3.0dev,>=2.14.1->google-api-core<3.0.0,>=1.0.0->opencensus<1.0.0,>=0.11.2->opencensus-ext-azure~=1.1.0->azureml-inference-server-http) (0.4.8)\nRequirement already satisfied: charset-normalizer<4,>=2 in /opt/miniconda/envs/amlenv/lib/python3.8/site-packages (from requests>=2.19.0->opencensus-ext-azure~=1.1.0->azureml-inference-server-http) (3.1.0)\nRequirement already satisfied: certifi>=2017.4.17 in /opt/miniconda/envs/amlenv/lib/python3.8/site-packages (from requests>=2.19.0->opencensus-ext-azure~=1.1.0->azureml-inference-server-http) (2022.12.7)\nRequirement already satisfied: urllib3<1.27,>=1.21.1 in /opt/miniconda/envs/amlenv/lib/python3.8/site-packages (from requests>=2.19.0->opencensus-ext-azure~=1.1.0->azureml-inference-server-http) (1.26.15)\nRequirement already satisfied: idna<4,>=2.5 in /opt/miniconda/envs/amlenv/lib/python3.8/site-packages (from requests>=2.19.0->opencensus-ext-azure~=1.1.0->azureml-inference-server-http) (3.4)\nRemoving intermediate container 3e2d43d1fd30\n ---> 5f6f00103085\nSuccessfully built 5f6f00103085\nSuccessfully tagged nnunet.azurecr.io/prediction_env:latest\n"
        }
      ],
      "execution_count": 2,
      "metadata": {
        "gather": {
          "logged": 1681377275214
        }
      }
    },
    {
      "cell_type": "code",
      "source": [
        "! docker login nnunet.azurecr.io --username=\"nnunet\" --password=\"MpBRtT1bx+QJu940rhnRxN55rHr4uvOtVTnLmj0pMG+ACRBMyvr4\""
      ],
      "outputs": [
        {
          "output_type": "stream",
          "name": "stdout",
          "text": "WARNING! Using --password via the CLI is insecure. Use --password-stdin.\r\nWARNING! Your password will be stored unencrypted in /home/azureuser/.docker/config.json.\r\nConfigure a credential helper to remove this warning. See\r\nhttps://docs.docker.com/engine/reference/commandline/login/#credentials-store\r\n\r\nLogin Succeeded\r\n"
        }
      ],
      "execution_count": 3,
      "metadata": {
        "jupyter": {
          "source_hidden": false,
          "outputs_hidden": false
        },
        "nteract": {
          "transient": {
            "deleting": false
          }
        }
      }
    },
    {
      "cell_type": "code",
      "source": [
        "! docker images list"
      ],
      "outputs": [
        {
          "output_type": "stream",
          "name": "stdout",
          "text": "REPOSITORY   TAG       IMAGE ID   CREATED   SIZE\r\n"
        }
      ],
      "execution_count": 4,
      "metadata": {
        "jupyter": {
          "source_hidden": false,
          "outputs_hidden": false
        },
        "nteract": {
          "transient": {
            "deleting": false
          }
        }
      }
    },
    {
      "cell_type": "code",
      "source": [
        "! docker push nnunet.azurecr.io/prediction_env:latest"
      ],
      "outputs": [
        {
          "output_type": "stream",
          "name": "stdout",
          "text": "The push refers to repository [nnunet.azurecr.io/prediction_env]\n\n\u001b[1B03b98bbc: Preparing \n\u001b[1B6365f0d5: Preparing \n\u001b[1B349546c3: Preparing \n\u001b[1B4242342d: Preparing \n\u001b[1B04a5153d: Preparing \n\u001b[1B8b79925f: Preparing \n\u001b[1Bcde44f7a: Preparing \n\u001b[1B24d9ba80: Preparing \n\u001b[1B9d75eac8: Preparing \n\u001b[1B63f69433: Preparing \n\u001b[1B64725140: Preparing \n\u001b[1B6f3d4a20: Preparing \n\u001b[1Bb93b7515: Preparing \n\u001b[1Ba5b93e49: Preparing \n\u001b[1B03f1ae1e: Preparing \n\u001b[1Bf64b0225: Preparing \n\u001b[1Bfca3a16a: Preparing \n\u001b[17Blatest: digest: sha256:760700a624e1a34186aa05196ffa7b836ca41e12be724f4e8ade494c5ab94749 size: 4089\n"
        }
      ],
      "execution_count": 5,
      "metadata": {
        "jupyter": {
          "source_hidden": false,
          "outputs_hidden": false
        },
        "nteract": {
          "transient": {
            "deleting": false
          }
        }
      }
    },
    {
      "cell_type": "code",
      "source": [],
      "outputs": [],
      "execution_count": null,
      "metadata": {
        "jupyter": {
          "source_hidden": false,
          "outputs_hidden": false
        },
        "nteract": {
          "transient": {
            "deleting": false
          }
        }
      }
    }
  ],
  "metadata": {
    "kernelspec": {
      "name": "python310-sdkv2",
      "language": "python",
      "display_name": "Python 3.10 - SDK v2"
    },
    "language_info": {
      "name": "python",
      "version": "3.10.9",
      "mimetype": "text/x-python",
      "codemirror_mode": {
        "name": "ipython",
        "version": 3
      },
      "pygments_lexer": "ipython3",
      "nbconvert_exporter": "python",
      "file_extension": ".py"
    },
    "kernel_info": {
      "name": "python310-sdkv2"
    },
    "nteract": {
      "version": "nteract-front-end@1.0.0"
    },
    "microsoft": {
      "ms_spell_check": {
        "ms_spell_check_language": "en"
      }
    }
  },
  "nbformat": 4,
  "nbformat_minor": 2
}