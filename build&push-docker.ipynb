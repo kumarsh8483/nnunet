{
  "cells": [
    {
      "cell_type": "code",
      "source": [
        "# extra : build docker & push to registry from notebook\n",
        "\n",
        "os.chdir(\"docker\")\n",
        "! docker build -f Dockerfile.inference -t nnunet.azurecr.io/prediction_env:latest .\n",
        "os.chdir(\"..\")\n",
        "! docker images list"
      ],
      "outputs": [
        {
          "output_type": "stream",
          "name": "stdout",
          "text": "Sending build context to Docker daemon  14.34kB\nStep 1/2 : FROM mcr.microsoft.com/azureml/minimal-ubuntu20.04-py38-cpu-inference:latest\n ---> 37958fe0d24a\nStep 2/2 : RUN pip install nnunet\n ---> Using cache\n ---> 763a9edeafde\nSuccessfully built 763a9edeafde\nSuccessfully tagged nnunet.azurecr.io/prediction_env:latest\nREPOSITORY   TAG       IMAGE ID   CREATED   SIZE\n"
        }
      ],
      "execution_count": 6,
      "metadata": {
        "gather": {
          "logged": 1689350084032
        }
      }
    },
    {
      "cell_type": "code",
      "source": [
        "! docker login nnunet.azurecr.io --username=\"nnunet\" --password=\"MpBRtT1bx+QJu940rhnRxN55rHr4uvOtVTnLmj0pMG+ACRBMyvr4\""
      ],
      "outputs": [
        {
          "output_type": "stream",
          "name": "stdout",
          "text": "WARNING! Using --password via the CLI is insecure. Use --password-stdin.\r\nWARNING! Your password will be stored unencrypted in /home/azureuser/.docker/config.json.\r\nConfigure a credential helper to remove this warning. See\r\nhttps://docs.docker.com/engine/reference/commandline/login/#credentials-store\r\n\r\nLogin Succeeded\r\n"
        }
      ],
      "execution_count": 7,
      "metadata": {
        "jupyter": {
          "source_hidden": false,
          "outputs_hidden": false
        },
        "nteract": {
          "transient": {
            "deleting": false
          }
        }
      }
    },
    {
      "cell_type": "code",
      "source": [
        "! docker images list"
      ],
      "outputs": [
        {
          "output_type": "stream",
          "name": "stdout",
          "text": "REPOSITORY   TAG       IMAGE ID   CREATED   SIZE\r\n"
        }
      ],
      "execution_count": 8,
      "metadata": {
        "jupyter": {
          "source_hidden": false,
          "outputs_hidden": false
        },
        "nteract": {
          "transient": {
            "deleting": false
          }
        }
      }
    },
    {
      "cell_type": "code",
      "source": [
        "! docker push nnunet.azurecr.io/prediction_env:latest"
      ],
      "outputs": [
        {
          "output_type": "stream",
          "name": "stdout",
          "text": "The push refers to repository [nnunet.azurecr.io/prediction_env]\n\n\u001b[1B6365f0d5: Preparing \n\u001b[1B349546c3: Preparing \n\u001b[1B4242342d: Preparing \n\u001b[1B04a5153d: Preparing \n\u001b[1B8b79925f: Preparing \n\u001b[1Bcde44f7a: Preparing \n\u001b[1B24d9ba80: Preparing \n\u001b[1B9d75eac8: Preparing \n\u001b[1B63f69433: Preparing \n\u001b[1B64725140: Preparing \n\u001b[1B6f3d4a20: Preparing \n\u001b[1Bb93b7515: Preparing \n\u001b[1Ba5b93e49: Preparing \n\u001b[1B03f1ae1e: Preparing \n\u001b[1Bf64b0225: Preparing \n\u001b[1Bfca3a16a: Preparing \n\u001b[17Blatest: digest: sha256:81bb10575b331436202b8b55bbf46f62dae9299040f71a9de52746e1406d3978 size: 3881\n"
        }
      ],
      "execution_count": 10,
      "metadata": {
        "jupyter": {
          "source_hidden": false,
          "outputs_hidden": false
        },
        "nteract": {
          "transient": {
            "deleting": false
          }
        }
      }
    },
    {
      "cell_type": "code",
      "source": [],
      "outputs": [],
      "execution_count": null,
      "metadata": {
        "jupyter": {
          "source_hidden": false,
          "outputs_hidden": false
        },
        "nteract": {
          "transient": {
            "deleting": false
          }
        }
      }
    }
  ],
  "metadata": {
    "kernelspec": {
      "name": "python310-sdkv2",
      "language": "python",
      "display_name": "Python 3.10 - SDK v2"
    },
    "language_info": {
      "name": "python",
      "version": "3.10.9",
      "mimetype": "text/x-python",
      "codemirror_mode": {
        "name": "ipython",
        "version": 3
      },
      "pygments_lexer": "ipython3",
      "nbconvert_exporter": "python",
      "file_extension": ".py"
    },
    "kernel_info": {
      "name": "python310-sdkv2"
    },
    "nteract": {
      "version": "nteract-front-end@1.0.0"
    },
    "microsoft": {
      "ms_spell_check": {
        "ms_spell_check_language": "en"
      }
    }
  },
  "nbformat": 4,
  "nbformat_minor": 2
}